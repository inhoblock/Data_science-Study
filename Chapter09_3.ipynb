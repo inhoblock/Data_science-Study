{
  "nbformat": 4,
  "nbformat_minor": 0,
  "metadata": {
    "colab": {
      "name": "Chapter09_3.ipynb",
      "provenance": [],
      "authorship_tag": "ABX9TyP9YeYeaJtVMHQH0VBWgIPk",
      "include_colab_link": true
    },
    "kernelspec": {
      "name": "python3",
      "display_name": "Python 3"
    },
    "language_info": {
      "name": "python"
    }
  },
  "cells": [
    {
      "cell_type": "markdown",
      "metadata": {
        "id": "view-in-github",
        "colab_type": "text"
      },
      "source": [
        "<a href=\"https://colab.research.google.com/github/inhoblock/Data_science_Study-hongongmachine/blob/main/Chapter09_3.ipynb\" target=\"_parent\"><img src=\"https://colab.research.google.com/assets/colab-badge.svg\" alt=\"Open In Colab\"/></a>"
      ]
    },
    {
      "cell_type": "markdown",
      "metadata": {
        "id": "mYvHMFDE0WYu"
      },
      "source": [
        "# Chapter9_3\n",
        "\n",
        "LSTM과 GRU 셀"
      ]
    },
    {
      "cell_type": "markdown",
      "metadata": {
        "id": "gOQh9U_z0a4O"
      },
      "source": [
        "# LSTM 신경망 훈련하기"
      ]
    },
    {
      "cell_type": "code",
      "metadata": {
        "colab": {
          "base_uri": "https://localhost:8080/"
        },
        "id": "uuF4YK520RMv",
        "outputId": "55317deb-7e74-4637-c36b-68812115c14f"
      },
      "source": [
        "from tensorflow.keras.datasets import imdb\n",
        "from sklearn.model_selection import train_test_split\n",
        "\n",
        "(train_input, train_target), (test_input, test_target) = imdb.load_data(num_words=500)\n",
        "\n",
        "train_input, val_input, train_target, val_target = train_test_split(train_input, train_target, test_size=0.2, random_state=42)"
      ],
      "execution_count": 1,
      "outputs": [
        {
          "output_type": "stream",
          "text": [
            "Downloading data from https://storage.googleapis.com/tensorflow/tf-keras-datasets/imdb.npz\n",
            "17465344/17464789 [==============================] - 0s 0us/step\n"
          ],
          "name": "stdout"
        },
        {
          "output_type": "stream",
          "text": [
            "<string>:6: VisibleDeprecationWarning: Creating an ndarray from ragged nested sequences (which is a list-or-tuple of lists-or-tuples-or ndarrays with different lengths or shapes) is deprecated. If you meant to do this, you must specify 'dtype=object' when creating the ndarray\n",
            "/usr/local/lib/python3.7/dist-packages/tensorflow/python/keras/datasets/imdb.py:159: VisibleDeprecationWarning: Creating an ndarray from ragged nested sequences (which is a list-or-tuple of lists-or-tuples-or ndarrays with different lengths or shapes) is deprecated. If you meant to do this, you must specify 'dtype=object' when creating the ndarray\n",
            "  x_train, y_train = np.array(xs[:idx]), np.array(labels[:idx])\n",
            "/usr/local/lib/python3.7/dist-packages/tensorflow/python/keras/datasets/imdb.py:160: VisibleDeprecationWarning: Creating an ndarray from ragged nested sequences (which is a list-or-tuple of lists-or-tuples-or ndarrays with different lengths or shapes) is deprecated. If you meant to do this, you must specify 'dtype=object' when creating the ndarray\n",
            "  x_test, y_test = np.array(xs[idx:]), np.array(labels[idx:])\n"
          ],
          "name": "stderr"
        }
      ]
    },
    {
      "cell_type": "code",
      "metadata": {
        "id": "1WpCpwJL09qL"
      },
      "source": [
        "from tensorflow.keras.preprocessing.sequence import pad_sequences\n",
        "\n",
        "train_seq = pad_sequences(train_input, maxlen=100)\n",
        "val_seq = pad_sequences(val_input, maxlen=100)"
      ],
      "execution_count": 2,
      "outputs": []
    },
    {
      "cell_type": "code",
      "metadata": {
        "colab": {
          "base_uri": "https://localhost:8080/"
        },
        "id": "fkpkRh5Y14xU",
        "outputId": "e0231e8a-6d28-4ce6-acfe-022a7441951e"
      },
      "source": [
        "from tensorflow import keras\n",
        "\n",
        "model = keras.Sequential()\n",
        "\n",
        "model.add(keras.layers.Embedding(500, 16, input_length=100))\n",
        "model.add(keras.layers.LSTM(8))\n",
        "model.add(keras.layers.Dense(1, activation='sigmoid'))\n",
        "\n",
        "model.summary()"
      ],
      "execution_count": 3,
      "outputs": [
        {
          "output_type": "stream",
          "text": [
            "Model: \"sequential\"\n",
            "_________________________________________________________________\n",
            "Layer (type)                 Output Shape              Param #   \n",
            "=================================================================\n",
            "embedding (Embedding)        (None, 100, 16)           8000      \n",
            "_________________________________________________________________\n",
            "lstm (LSTM)                  (None, 8)                 800       \n",
            "_________________________________________________________________\n",
            "dense (Dense)                (None, 1)                 9         \n",
            "=================================================================\n",
            "Total params: 8,809\n",
            "Trainable params: 8,809\n",
            "Non-trainable params: 0\n",
            "_________________________________________________________________\n"
          ],
          "name": "stdout"
        }
      ]
    },
    {
      "cell_type": "code",
      "metadata": {
        "colab": {
          "base_uri": "https://localhost:8080/"
        },
        "id": "JdgkKhNv2Y9s",
        "outputId": "2441e6ae-f05d-44e8-9298-f2e81feb0bf5"
      },
      "source": [
        "rmsprop = keras.optimizers.RMSprop(learning_rate=1e-4)\n",
        "\n",
        "model.compile(optimizer=rmsprop, loss='binary_crossentropy', metrics=['accuracy'])\n",
        "\n",
        "checkpoint_cb = keras.callbacks.ModelCheckpoint('best-lstm-model.h5', save_best_only=True)\n",
        "\n",
        "early_stopping_cb = keras.callbacks.EarlyStopping(patience=3, restore_best_weights=True)\n",
        "\n",
        "history = model.fit(train_seq, train_target, epochs=100, batch_size=64,\n",
        "                    validation_data=(val_seq, val_target),\n",
        "                    callbacks=[checkpoint_cb, early_stopping_cb])"
      ],
      "execution_count": 4,
      "outputs": [
        {
          "output_type": "stream",
          "text": [
            "Epoch 1/100\n",
            "313/313 [==============================] - 14s 37ms/step - loss: 0.6929 - accuracy: 0.5090 - val_loss: 0.6916 - val_accuracy: 0.5780\n",
            "Epoch 2/100\n",
            "313/313 [==============================] - 12s 37ms/step - loss: 0.6906 - accuracy: 0.6004 - val_loss: 0.6876 - val_accuracy: 0.6378\n",
            "Epoch 3/100\n",
            "313/313 [==============================] - 12s 37ms/step - loss: 0.6853 - accuracy: 0.6506 - val_loss: 0.6775 - val_accuracy: 0.6436\n",
            "Epoch 4/100\n",
            "313/313 [==============================] - 12s 38ms/step - loss: 0.6681 - accuracy: 0.6516 - val_loss: 0.6273 - val_accuracy: 0.6934\n",
            "Epoch 5/100\n",
            "313/313 [==============================] - 12s 38ms/step - loss: 0.6058 - accuracy: 0.7236 - val_loss: 0.5882 - val_accuracy: 0.7362\n",
            "Epoch 6/100\n",
            "313/313 [==============================] - 12s 38ms/step - loss: 0.5788 - accuracy: 0.7459 - val_loss: 0.5695 - val_accuracy: 0.7470\n",
            "Epoch 7/100\n",
            "313/313 [==============================] - 12s 37ms/step - loss: 0.5569 - accuracy: 0.7589 - val_loss: 0.5515 - val_accuracy: 0.7556\n",
            "Epoch 8/100\n",
            "313/313 [==============================] - 12s 38ms/step - loss: 0.5381 - accuracy: 0.7670 - val_loss: 0.5330 - val_accuracy: 0.7654\n",
            "Epoch 9/100\n",
            "313/313 [==============================] - 12s 37ms/step - loss: 0.5187 - accuracy: 0.7806 - val_loss: 0.5206 - val_accuracy: 0.7678\n",
            "Epoch 10/100\n",
            "313/313 [==============================] - 12s 38ms/step - loss: 0.5054 - accuracy: 0.7795 - val_loss: 0.5030 - val_accuracy: 0.7788\n",
            "Epoch 11/100\n",
            "313/313 [==============================] - 12s 38ms/step - loss: 0.4895 - accuracy: 0.7887 - val_loss: 0.4915 - val_accuracy: 0.7784\n",
            "Epoch 12/100\n",
            "313/313 [==============================] - 12s 38ms/step - loss: 0.4782 - accuracy: 0.7913 - val_loss: 0.4819 - val_accuracy: 0.7850\n",
            "Epoch 13/100\n",
            "313/313 [==============================] - 12s 38ms/step - loss: 0.4697 - accuracy: 0.7936 - val_loss: 0.4735 - val_accuracy: 0.7894\n",
            "Epoch 14/100\n",
            "313/313 [==============================] - 12s 38ms/step - loss: 0.4567 - accuracy: 0.8007 - val_loss: 0.4684 - val_accuracy: 0.7894\n",
            "Epoch 15/100\n",
            "313/313 [==============================] - 12s 37ms/step - loss: 0.4518 - accuracy: 0.7993 - val_loss: 0.4658 - val_accuracy: 0.7884\n",
            "Epoch 16/100\n",
            "313/313 [==============================] - 12s 37ms/step - loss: 0.4438 - accuracy: 0.8054 - val_loss: 0.4582 - val_accuracy: 0.7924\n",
            "Epoch 17/100\n",
            "313/313 [==============================] - 12s 37ms/step - loss: 0.4408 - accuracy: 0.8078 - val_loss: 0.4558 - val_accuracy: 0.7918\n",
            "Epoch 18/100\n",
            "313/313 [==============================] - 12s 37ms/step - loss: 0.4299 - accuracy: 0.8128 - val_loss: 0.4535 - val_accuracy: 0.7936\n",
            "Epoch 19/100\n",
            "313/313 [==============================] - 12s 37ms/step - loss: 0.4333 - accuracy: 0.8096 - val_loss: 0.4517 - val_accuracy: 0.7944\n",
            "Epoch 20/100\n",
            "313/313 [==============================] - 12s 38ms/step - loss: 0.4266 - accuracy: 0.8143 - val_loss: 0.4534 - val_accuracy: 0.7882\n",
            "Epoch 21/100\n",
            "313/313 [==============================] - 12s 38ms/step - loss: 0.4286 - accuracy: 0.8081 - val_loss: 0.4475 - val_accuracy: 0.7980\n",
            "Epoch 22/100\n",
            "313/313 [==============================] - 12s 37ms/step - loss: 0.4278 - accuracy: 0.8098 - val_loss: 0.4463 - val_accuracy: 0.7966\n",
            "Epoch 23/100\n",
            "313/313 [==============================] - 12s 37ms/step - loss: 0.4186 - accuracy: 0.8163 - val_loss: 0.4460 - val_accuracy: 0.7978\n",
            "Epoch 24/100\n",
            "313/313 [==============================] - 12s 37ms/step - loss: 0.4214 - accuracy: 0.8148 - val_loss: 0.4457 - val_accuracy: 0.7976\n",
            "Epoch 25/100\n",
            "313/313 [==============================] - 12s 38ms/step - loss: 0.4253 - accuracy: 0.8092 - val_loss: 0.4438 - val_accuracy: 0.7948\n",
            "Epoch 26/100\n",
            "313/313 [==============================] - 12s 37ms/step - loss: 0.4128 - accuracy: 0.8189 - val_loss: 0.4451 - val_accuracy: 0.7976\n",
            "Epoch 27/100\n",
            "313/313 [==============================] - 12s 38ms/step - loss: 0.4181 - accuracy: 0.8152 - val_loss: 0.4411 - val_accuracy: 0.7978\n",
            "Epoch 28/100\n",
            "313/313 [==============================] - 12s 38ms/step - loss: 0.4114 - accuracy: 0.8170 - val_loss: 0.4462 - val_accuracy: 0.7984\n",
            "Epoch 29/100\n",
            "313/313 [==============================] - 12s 37ms/step - loss: 0.4185 - accuracy: 0.8167 - val_loss: 0.4419 - val_accuracy: 0.7994\n",
            "Epoch 30/100\n",
            "313/313 [==============================] - 12s 38ms/step - loss: 0.4100 - accuracy: 0.8178 - val_loss: 0.4398 - val_accuracy: 0.8002\n",
            "Epoch 31/100\n",
            "313/313 [==============================] - 12s 37ms/step - loss: 0.4110 - accuracy: 0.8179 - val_loss: 0.4378 - val_accuracy: 0.7964\n",
            "Epoch 32/100\n",
            "313/313 [==============================] - 12s 37ms/step - loss: 0.4120 - accuracy: 0.8186 - val_loss: 0.4373 - val_accuracy: 0.7998\n",
            "Epoch 33/100\n",
            "313/313 [==============================] - 12s 37ms/step - loss: 0.4153 - accuracy: 0.8144 - val_loss: 0.4388 - val_accuracy: 0.7992\n",
            "Epoch 34/100\n",
            "313/313 [==============================] - 12s 37ms/step - loss: 0.4074 - accuracy: 0.8192 - val_loss: 0.4360 - val_accuracy: 0.7992\n",
            "Epoch 35/100\n",
            "313/313 [==============================] - 12s 37ms/step - loss: 0.4083 - accuracy: 0.8136 - val_loss: 0.4365 - val_accuracy: 0.7974\n",
            "Epoch 36/100\n",
            "313/313 [==============================] - 12s 37ms/step - loss: 0.4108 - accuracy: 0.8168 - val_loss: 0.4357 - val_accuracy: 0.8012\n",
            "Epoch 37/100\n",
            "313/313 [==============================] - 12s 37ms/step - loss: 0.4070 - accuracy: 0.8172 - val_loss: 0.4358 - val_accuracy: 0.7948\n",
            "Epoch 38/100\n",
            "313/313 [==============================] - 12s 38ms/step - loss: 0.4035 - accuracy: 0.8196 - val_loss: 0.4334 - val_accuracy: 0.7980\n",
            "Epoch 39/100\n",
            "313/313 [==============================] - 12s 38ms/step - loss: 0.4071 - accuracy: 0.8201 - val_loss: 0.4329 - val_accuracy: 0.7980\n",
            "Epoch 40/100\n",
            "313/313 [==============================] - 12s 38ms/step - loss: 0.4069 - accuracy: 0.8172 - val_loss: 0.4341 - val_accuracy: 0.8006\n",
            "Epoch 41/100\n",
            "313/313 [==============================] - 12s 37ms/step - loss: 0.4070 - accuracy: 0.8185 - val_loss: 0.4321 - val_accuracy: 0.8002\n",
            "Epoch 42/100\n",
            "313/313 [==============================] - 12s 38ms/step - loss: 0.4008 - accuracy: 0.8206 - val_loss: 0.4319 - val_accuracy: 0.8026\n",
            "Epoch 43/100\n",
            "313/313 [==============================] - 12s 37ms/step - loss: 0.4062 - accuracy: 0.8182 - val_loss: 0.4311 - val_accuracy: 0.8000\n",
            "Epoch 44/100\n",
            "313/313 [==============================] - 12s 37ms/step - loss: 0.4046 - accuracy: 0.8162 - val_loss: 0.4307 - val_accuracy: 0.7998\n",
            "Epoch 45/100\n",
            "313/313 [==============================] - 12s 37ms/step - loss: 0.3994 - accuracy: 0.8233 - val_loss: 0.4305 - val_accuracy: 0.8006\n",
            "Epoch 46/100\n",
            "313/313 [==============================] - 12s 37ms/step - loss: 0.4050 - accuracy: 0.8168 - val_loss: 0.4307 - val_accuracy: 0.7988\n",
            "Epoch 47/100\n",
            "313/313 [==============================] - 14s 44ms/step - loss: 0.4023 - accuracy: 0.8222 - val_loss: 0.4321 - val_accuracy: 0.7980\n",
            "Epoch 48/100\n",
            "313/313 [==============================] - 12s 37ms/step - loss: 0.4016 - accuracy: 0.8188 - val_loss: 0.4302 - val_accuracy: 0.7988\n",
            "Epoch 49/100\n",
            "313/313 [==============================] - 12s 37ms/step - loss: 0.3963 - accuracy: 0.8195 - val_loss: 0.4300 - val_accuracy: 0.8034\n",
            "Epoch 50/100\n",
            "313/313 [==============================] - 12s 37ms/step - loss: 0.3977 - accuracy: 0.8215 - val_loss: 0.4282 - val_accuracy: 0.8022\n",
            "Epoch 51/100\n",
            "313/313 [==============================] - 12s 37ms/step - loss: 0.4043 - accuracy: 0.8194 - val_loss: 0.4283 - val_accuracy: 0.8016\n",
            "Epoch 52/100\n",
            "313/313 [==============================] - 12s 37ms/step - loss: 0.3985 - accuracy: 0.8202 - val_loss: 0.4273 - val_accuracy: 0.8006\n",
            "Epoch 53/100\n",
            "313/313 [==============================] - 12s 37ms/step - loss: 0.3995 - accuracy: 0.8189 - val_loss: 0.4316 - val_accuracy: 0.8046\n",
            "Epoch 54/100\n",
            "313/313 [==============================] - 12s 38ms/step - loss: 0.3987 - accuracy: 0.8198 - val_loss: 0.4301 - val_accuracy: 0.8004\n",
            "Epoch 55/100\n",
            "313/313 [==============================] - 12s 37ms/step - loss: 0.4009 - accuracy: 0.8177 - val_loss: 0.4288 - val_accuracy: 0.8042\n"
          ],
          "name": "stdout"
        }
      ]
    },
    {
      "cell_type": "code",
      "metadata": {
        "colab": {
          "base_uri": "https://localhost:8080/",
          "height": 279
        },
        "id": "8o9Th6W-3Lt9",
        "outputId": "ced516cd-ee3a-45d4-b00e-37ecefa24b12"
      },
      "source": [
        "import matplotlib.pyplot as plt\n",
        "\n",
        "plt.plot(history.history['loss'])\n",
        "plt.plot(history.history['val_loss'])\n",
        "plt.xlabel('epoch')\n",
        "plt.ylabel('loss')\n",
        "plt.legend(['train', 'val'])\n",
        "plt.show()"
      ],
      "execution_count": 5,
      "outputs": [
        {
          "output_type": "display_data",
          "data": {
            "image/png": "[encoded data removed]",
            "text/plain": [
              "<Figure size 432x288 with 1 Axes>"
            ]
          },
          "metadata": {
            "tags": [],
            "needs_background": "light"
          }
        }
      ]
    },
    {
      "cell_type": "markdown",
      "metadata": {
        "id": "R76y7pMU7knH"
      },
      "source": [
        "# 순환 층에 드롭아웃 적용하기"
      ]
    },
    {
      "cell_type": "code",
      "metadata": {
        "id": "bn1R7BCS7iUG"
      },
      "source": [
        "model2 = keras.Sequential()\n",
        "\n",
        "model2.add(keras.layers.Embedding(500, 16, input_length=100))\n",
        "model2.add(keras.layers.LSTM(8, dropout=0.3))\n",
        "model2.add(keras.layers.Dense(1, activation='sigmoid'))"
      ],
      "execution_count": 6,
      "outputs": []
    },
    {
      "cell_type": "code",
      "metadata": {
        "colab": {
          "base_uri": "https://localhost:8080/"
        },
        "id": "qePgdsaL75J0",
        "outputId": "a1f5633d-8b53-4343-a0fa-f6c34f2a15fb"
      },
      "source": [
        "rmsprop = keras.optimizers.RMSprop(learning_rate=1e-4)\n",
        "model2.compile(optimizer=rmsprop, loss='binary_crossentropy', \n",
        "               metrics=['accuracy'])\n",
        "\n",
        "checkpoint_cb = keras.callbacks.ModelCheckpoint('best-dropout-model.h5', \n",
        "                                                save_best_only=True)\n",
        "early_stopping_cb = keras.callbacks.EarlyStopping(patience=3,\n",
        "                                                  restore_best_weights=True)\n",
        "\n",
        "history = model2.fit(train_seq, train_target, epochs=100, batch_size=64,\n",
        "                     validation_data=(val_seq, val_target),\n",
        "                     callbacks=[checkpoint_cb, early_stopping_cb])"
      ],
      "execution_count": 7,
      "outputs": [
        {
          "output_type": "stream",
          "text": [
            "Epoch 1/100\n",
            "313/313 [==============================] - 15s 41ms/step - loss: 0.6925 - accuracy: 0.5377 - val_loss: 0.6902 - val_accuracy: 0.6172\n",
            "Epoch 2/100\n",
            "313/313 [==============================] - 12s 40ms/step - loss: 0.6887 - accuracy: 0.6124 - val_loss: 0.6797 - val_accuracy: 0.6766\n",
            "Epoch 3/100\n",
            "313/313 [==============================] - 12s 40ms/step - loss: 0.6698 - accuracy: 0.6777 - val_loss: 0.6200 - val_accuracy: 0.7184\n",
            "Epoch 4/100\n",
            "313/313 [==============================] - 12s 39ms/step - loss: 0.6122 - accuracy: 0.7269 - val_loss: 0.5917 - val_accuracy: 0.7256\n",
            "Epoch 5/100\n",
            "313/313 [==============================] - 12s 39ms/step - loss: 0.5894 - accuracy: 0.7301 - val_loss: 0.5720 - val_accuracy: 0.7402\n",
            "Epoch 6/100\n",
            "313/313 [==============================] - 13s 40ms/step - loss: 0.5723 - accuracy: 0.7413 - val_loss: 0.5549 - val_accuracy: 0.7538\n",
            "Epoch 7/100\n",
            "313/313 [==============================] - 12s 40ms/step - loss: 0.5527 - accuracy: 0.7525 - val_loss: 0.5391 - val_accuracy: 0.7618\n",
            "Epoch 8/100\n",
            "313/313 [==============================] - 13s 41ms/step - loss: 0.5331 - accuracy: 0.7652 - val_loss: 0.5298 - val_accuracy: 0.7566\n",
            "Epoch 9/100\n",
            "313/313 [==============================] - 12s 40ms/step - loss: 0.5170 - accuracy: 0.7747 - val_loss: 0.5116 - val_accuracy: 0.7704\n",
            "Epoch 10/100\n",
            "313/313 [==============================] - 12s 40ms/step - loss: 0.4996 - accuracy: 0.7819 - val_loss: 0.4982 - val_accuracy: 0.7778\n",
            "Epoch 11/100\n",
            "313/313 [==============================] - 13s 40ms/step - loss: 0.4944 - accuracy: 0.7805 - val_loss: 0.4867 - val_accuracy: 0.7794\n",
            "Epoch 12/100\n",
            "313/313 [==============================] - 13s 41ms/step - loss: 0.4781 - accuracy: 0.7884 - val_loss: 0.4777 - val_accuracy: 0.7836\n",
            "Epoch 13/100\n",
            "313/313 [==============================] - 12s 40ms/step - loss: 0.4689 - accuracy: 0.7909 - val_loss: 0.4668 - val_accuracy: 0.7882\n",
            "Epoch 14/100\n",
            "313/313 [==============================] - 13s 41ms/step - loss: 0.4596 - accuracy: 0.7935 - val_loss: 0.4578 - val_accuracy: 0.7916\n",
            "Epoch 15/100\n",
            "313/313 [==============================] - 13s 40ms/step - loss: 0.4579 - accuracy: 0.7937 - val_loss: 0.4521 - val_accuracy: 0.7958\n",
            "Epoch 16/100\n",
            "313/313 [==============================] - 13s 40ms/step - loss: 0.4405 - accuracy: 0.8027 - val_loss: 0.4472 - val_accuracy: 0.7990\n",
            "Epoch 17/100\n",
            "313/313 [==============================] - 13s 40ms/step - loss: 0.4415 - accuracy: 0.7997 - val_loss: 0.4444 - val_accuracy: 0.7978\n",
            "Epoch 18/100\n",
            "313/313 [==============================] - 13s 40ms/step - loss: 0.4347 - accuracy: 0.8031 - val_loss: 0.4434 - val_accuracy: 0.7970\n",
            "Epoch 19/100\n",
            "313/313 [==============================] - 12s 39ms/step - loss: 0.4325 - accuracy: 0.8062 - val_loss: 0.4411 - val_accuracy: 0.7990\n",
            "Epoch 20/100\n",
            "313/313 [==============================] - 12s 40ms/step - loss: 0.4378 - accuracy: 0.8020 - val_loss: 0.4405 - val_accuracy: 0.7996\n",
            "Epoch 21/100\n",
            "313/313 [==============================] - 13s 41ms/step - loss: 0.4310 - accuracy: 0.8037 - val_loss: 0.4369 - val_accuracy: 0.8016\n",
            "Epoch 22/100\n",
            "313/313 [==============================] - 13s 42ms/step - loss: 0.4365 - accuracy: 0.8019 - val_loss: 0.4360 - val_accuracy: 0.8020\n",
            "Epoch 23/100\n",
            "313/313 [==============================] - 13s 41ms/step - loss: 0.4245 - accuracy: 0.8094 - val_loss: 0.4367 - val_accuracy: 0.8006\n",
            "Epoch 24/100\n",
            "313/313 [==============================] - 13s 41ms/step - loss: 0.4213 - accuracy: 0.8126 - val_loss: 0.4352 - val_accuracy: 0.8020\n",
            "Epoch 25/100\n",
            "313/313 [==============================] - 13s 41ms/step - loss: 0.4225 - accuracy: 0.8076 - val_loss: 0.4373 - val_accuracy: 0.7964\n",
            "Epoch 26/100\n",
            "313/313 [==============================] - 13s 40ms/step - loss: 0.4237 - accuracy: 0.8077 - val_loss: 0.4350 - val_accuracy: 0.8040\n",
            "Epoch 27/100\n",
            "313/313 [==============================] - 13s 41ms/step - loss: 0.4203 - accuracy: 0.8087 - val_loss: 0.4354 - val_accuracy: 0.8014\n",
            "Epoch 28/100\n",
            "313/313 [==============================] - 13s 41ms/step - loss: 0.4191 - accuracy: 0.8112 - val_loss: 0.4367 - val_accuracy: 0.7974\n",
            "Epoch 29/100\n",
            "313/313 [==============================] - 13s 40ms/step - loss: 0.4202 - accuracy: 0.8070 - val_loss: 0.4327 - val_accuracy: 0.8048\n",
            "Epoch 30/100\n",
            "313/313 [==============================] - 13s 40ms/step - loss: 0.4170 - accuracy: 0.8120 - val_loss: 0.4335 - val_accuracy: 0.7996\n",
            "Epoch 31/100\n",
            "313/313 [==============================] - 13s 41ms/step - loss: 0.4177 - accuracy: 0.8077 - val_loss: 0.4337 - val_accuracy: 0.7988\n",
            "Epoch 32/100\n",
            "313/313 [==============================] - 13s 41ms/step - loss: 0.4139 - accuracy: 0.8113 - val_loss: 0.4315 - val_accuracy: 0.8046\n",
            "Epoch 33/100\n",
            "313/313 [==============================] - 13s 41ms/step - loss: 0.4180 - accuracy: 0.8095 - val_loss: 0.4308 - val_accuracy: 0.8036\n",
            "Epoch 34/100\n",
            "313/313 [==============================] - 13s 41ms/step - loss: 0.4152 - accuracy: 0.8098 - val_loss: 0.4313 - val_accuracy: 0.8004\n",
            "Epoch 35/100\n",
            "313/313 [==============================] - 13s 41ms/step - loss: 0.4137 - accuracy: 0.8118 - val_loss: 0.4303 - val_accuracy: 0.8052\n",
            "Epoch 36/100\n",
            "313/313 [==============================] - 13s 41ms/step - loss: 0.4059 - accuracy: 0.8173 - val_loss: 0.4322 - val_accuracy: 0.8040\n",
            "Epoch 37/100\n",
            "313/313 [==============================] - 13s 41ms/step - loss: 0.4137 - accuracy: 0.8112 - val_loss: 0.4303 - val_accuracy: 0.8054\n",
            "Epoch 38/100\n",
            "313/313 [==============================] - 13s 41ms/step - loss: 0.4158 - accuracy: 0.8084 - val_loss: 0.4292 - val_accuracy: 0.8040\n",
            "Epoch 39/100\n",
            "313/313 [==============================] - 13s 41ms/step - loss: 0.4165 - accuracy: 0.8112 - val_loss: 0.4297 - val_accuracy: 0.8022\n",
            "Epoch 40/100\n",
            "313/313 [==============================] - 13s 41ms/step - loss: 0.4136 - accuracy: 0.8099 - val_loss: 0.4297 - val_accuracy: 0.8062\n",
            "Epoch 41/100\n",
            "313/313 [==============================] - 13s 40ms/step - loss: 0.4098 - accuracy: 0.8122 - val_loss: 0.4301 - val_accuracy: 0.8060\n"
          ],
          "name": "stdout"
        }
      ]
    },
    {
      "cell_type": "code",
      "metadata": {
        "colab": {
          "base_uri": "https://localhost:8080/",
          "height": 279
        },
        "id": "_S-uwIwP77x1",
        "outputId": "b77cf586-98e8-433e-c077-1fd206f17634"
      },
      "source": [
        "plt.plot(history.history['loss'])\n",
        "plt.plot(history.history['val_loss'])\n",
        "plt.xlabel('epoch')\n",
        "plt.ylabel('loss')\n",
        "plt.legend(['train', 'val'])\n",
        "plt.show()"
      ],
      "execution_count": 8,
      "outputs": [
        {
          "output_type": "display_data",
          "data": {
            "image/png": "[encoded data removed]",
            "text/plain": [
              "<Figure size 432x288 with 1 Axes>"
            ]
          },
          "metadata": {
            "tags": [],
            "needs_background": "light"
          }
        }
      ]
    },
    {
      "cell_type": "markdown",
      "metadata": {
        "id": "SaDGVdeu-wrq"
      },
      "source": [
        "# 2개의 층을 연결하기"
      ]
    },
    {
      "cell_type": "code",
      "metadata": {
        "colab": {
          "base_uri": "https://localhost:8080/"
        },
        "id": "oH7LDFbS-t0n",
        "outputId": "fb0fc5a0-b925-48ad-8021-bd6d9927a8fc"
      },
      "source": [
        "model3 = keras.Sequential()\n",
        "\n",
        "model3.add(keras.layers.Embedding(500, 16, input_length=100))\n",
        "model3.add(keras.layers.LSTM(8, dropout=0.3, return_sequences=True))\n",
        "model3.add(keras.layers.LSTM(8, dropout=0.3))\n",
        "model3.add(keras.layers.Dense(1, activation='sigmoid'))\n",
        "\n",
        "model3.summary()"
      ],
      "execution_count": 10,
      "outputs": [
        {
          "output_type": "stream",
          "text": [
            "Model: \"sequential_2\"\n",
            "_________________________________________________________________\n",
            "Layer (type)                 Output Shape              Param #   \n",
            "=================================================================\n",
            "embedding_2 (Embedding)      (None, 100, 16)           8000      \n",
            "_________________________________________________________________\n",
            "lstm_2 (LSTM)                (None, 100, 8)            800       \n",
            "_________________________________________________________________\n",
            "lstm_3 (LSTM)                (None, 8)                 544       \n",
            "_________________________________________________________________\n",
            "dense_2 (Dense)              (None, 1)                 9         \n",
            "=================================================================\n",
            "Total params: 9,353\n",
            "Trainable params: 9,353\n",
            "Non-trainable params: 0\n",
            "_________________________________________________________________\n"
          ],
          "name": "stdout"
        }
      ]
    },
    {
      "cell_type": "code",
      "metadata": {
        "colab": {
          "base_uri": "https://localhost:8080/"
        },
        "id": "XNSY0Gmb_UVu",
        "outputId": "0a33ec6e-f1f1-42f0-fa2a-8f6506b019c9"
      },
      "source": [
        "rmsprop = keras.optimizers.RMSprop(learning_rate=1e-4)\n",
        "model3.compile(optimizer=rmsprop, loss='binary_crossentropy', \n",
        "               metrics=['accuracy'])\n",
        "\n",
        "checkpoint_cb = keras.callbacks.ModelCheckpoint('best-2rnn-model.h5', \n",
        "                                                save_best_only=True)\n",
        "early_stopping_cb = keras.callbacks.EarlyStopping(patience=3,\n",
        "                                                  restore_best_weights=True)\n",
        "\n",
        "history = model3.fit(train_seq, train_target, epochs=100, batch_size=64,\n",
        "                     validation_data=(val_seq, val_target),\n",
        "                     callbacks=[checkpoint_cb, early_stopping_cb])"
      ],
      "execution_count": 11,
      "outputs": [
        {
          "output_type": "stream",
          "text": [
            "Epoch 1/100\n",
            "313/313 [==============================] - 27s 74ms/step - loss: 0.6928 - accuracy: 0.5341 - val_loss: 0.6918 - val_accuracy: 0.5964\n",
            "Epoch 2/100\n",
            "313/313 [==============================] - 22s 71ms/step - loss: 0.6908 - accuracy: 0.5918 - val_loss: 0.6860 - val_accuracy: 0.6488\n",
            "Epoch 3/100\n",
            "313/313 [==============================] - 23s 72ms/step - loss: 0.6808 - accuracy: 0.6559 - val_loss: 0.6529 - val_accuracy: 0.6850\n",
            "Epoch 4/100\n",
            "313/313 [==============================] - 23s 74ms/step - loss: 0.6222 - accuracy: 0.6990 - val_loss: 0.5393 - val_accuracy: 0.7372\n",
            "Epoch 5/100\n",
            "313/313 [==============================] - 23s 74ms/step - loss: 0.5308 - accuracy: 0.7431 - val_loss: 0.5083 - val_accuracy: 0.7588\n",
            "Epoch 6/100\n",
            "313/313 [==============================] - 23s 75ms/step - loss: 0.5072 - accuracy: 0.7588 - val_loss: 0.4889 - val_accuracy: 0.7702\n",
            "Epoch 7/100\n",
            "313/313 [==============================] - 23s 75ms/step - loss: 0.4858 - accuracy: 0.7729 - val_loss: 0.4781 - val_accuracy: 0.7730\n",
            "Epoch 8/100\n",
            "313/313 [==============================] - 24s 75ms/step - loss: 0.4728 - accuracy: 0.7810 - val_loss: 0.4690 - val_accuracy: 0.7786\n",
            "Epoch 9/100\n",
            "313/313 [==============================] - 23s 75ms/step - loss: 0.4721 - accuracy: 0.7805 - val_loss: 0.4636 - val_accuracy: 0.7826\n",
            "Epoch 10/100\n",
            "313/313 [==============================] - 23s 74ms/step - loss: 0.4614 - accuracy: 0.7862 - val_loss: 0.4586 - val_accuracy: 0.7858\n",
            "Epoch 11/100\n",
            "313/313 [==============================] - 23s 74ms/step - loss: 0.4519 - accuracy: 0.7941 - val_loss: 0.4598 - val_accuracy: 0.7844\n",
            "Epoch 12/100\n",
            "313/313 [==============================] - 23s 75ms/step - loss: 0.4572 - accuracy: 0.7869 - val_loss: 0.4519 - val_accuracy: 0.7888\n",
            "Epoch 13/100\n",
            "313/313 [==============================] - 23s 75ms/step - loss: 0.4558 - accuracy: 0.7893 - val_loss: 0.4499 - val_accuracy: 0.7898\n",
            "Epoch 14/100\n",
            "313/313 [==============================] - 24s 76ms/step - loss: 0.4484 - accuracy: 0.7938 - val_loss: 0.4507 - val_accuracy: 0.7918\n",
            "Epoch 15/100\n",
            "313/313 [==============================] - 24s 77ms/step - loss: 0.4425 - accuracy: 0.8024 - val_loss: 0.4461 - val_accuracy: 0.7942\n",
            "Epoch 16/100\n",
            "313/313 [==============================] - 24s 77ms/step - loss: 0.4421 - accuracy: 0.7990 - val_loss: 0.4462 - val_accuracy: 0.7934\n",
            "Epoch 17/100\n",
            "313/313 [==============================] - 24s 77ms/step - loss: 0.4378 - accuracy: 0.7979 - val_loss: 0.4447 - val_accuracy: 0.7918\n",
            "Epoch 18/100\n",
            "313/313 [==============================] - 25s 78ms/step - loss: 0.4366 - accuracy: 0.8018 - val_loss: 0.4430 - val_accuracy: 0.7938\n",
            "Epoch 19/100\n",
            "313/313 [==============================] - 25s 79ms/step - loss: 0.4370 - accuracy: 0.7993 - val_loss: 0.4417 - val_accuracy: 0.7922\n",
            "Epoch 20/100\n",
            "313/313 [==============================] - 25s 80ms/step - loss: 0.4328 - accuracy: 0.8019 - val_loss: 0.4422 - val_accuracy: 0.7974\n",
            "Epoch 21/100\n",
            "313/313 [==============================] - 25s 79ms/step - loss: 0.4351 - accuracy: 0.8033 - val_loss: 0.4426 - val_accuracy: 0.7970\n",
            "Epoch 22/100\n",
            "313/313 [==============================] - 25s 79ms/step - loss: 0.4360 - accuracy: 0.7995 - val_loss: 0.4415 - val_accuracy: 0.7928\n",
            "Epoch 23/100\n",
            "313/313 [==============================] - 24s 78ms/step - loss: 0.4237 - accuracy: 0.8069 - val_loss: 0.4400 - val_accuracy: 0.7982\n",
            "Epoch 24/100\n",
            "313/313 [==============================] - 24s 78ms/step - loss: 0.4348 - accuracy: 0.8011 - val_loss: 0.4382 - val_accuracy: 0.7962\n",
            "Epoch 25/100\n",
            "313/313 [==============================] - 24s 78ms/step - loss: 0.4313 - accuracy: 0.8081 - val_loss: 0.4381 - val_accuracy: 0.7946\n",
            "Epoch 26/100\n",
            "313/313 [==============================] - 25s 79ms/step - loss: 0.4343 - accuracy: 0.8031 - val_loss: 0.4400 - val_accuracy: 0.8000\n",
            "Epoch 27/100\n",
            "313/313 [==============================] - 25s 79ms/step - loss: 0.4282 - accuracy: 0.8043 - val_loss: 0.4369 - val_accuracy: 0.7974\n",
            "Epoch 28/100\n",
            "313/313 [==============================] - 25s 79ms/step - loss: 0.4278 - accuracy: 0.8075 - val_loss: 0.4423 - val_accuracy: 0.7994\n",
            "Epoch 29/100\n",
            "313/313 [==============================] - 25s 80ms/step - loss: 0.4232 - accuracy: 0.8048 - val_loss: 0.4410 - val_accuracy: 0.7992\n",
            "Epoch 30/100\n",
            "313/313 [==============================] - 25s 81ms/step - loss: 0.4264 - accuracy: 0.8086 - val_loss: 0.4357 - val_accuracy: 0.8000\n",
            "Epoch 31/100\n",
            "313/313 [==============================] - 25s 80ms/step - loss: 0.4195 - accuracy: 0.8102 - val_loss: 0.4351 - val_accuracy: 0.7998\n",
            "Epoch 32/100\n",
            "313/313 [==============================] - 24s 78ms/step - loss: 0.4244 - accuracy: 0.8084 - val_loss: 0.4353 - val_accuracy: 0.7960\n",
            "Epoch 33/100\n",
            "313/313 [==============================] - 24s 78ms/step - loss: 0.4234 - accuracy: 0.8086 - val_loss: 0.4380 - val_accuracy: 0.7976\n",
            "Epoch 34/100\n",
            "313/313 [==============================] - 24s 78ms/step - loss: 0.4172 - accuracy: 0.8110 - val_loss: 0.4340 - val_accuracy: 0.8004\n",
            "Epoch 35/100\n",
            "313/313 [==============================] - 24s 78ms/step - loss: 0.4165 - accuracy: 0.8080 - val_loss: 0.4340 - val_accuracy: 0.7998\n",
            "Epoch 36/100\n",
            "313/313 [==============================] - 24s 77ms/step - loss: 0.4219 - accuracy: 0.8069 - val_loss: 0.4342 - val_accuracy: 0.7976\n",
            "Epoch 37/100\n",
            "313/313 [==============================] - 24s 77ms/step - loss: 0.4199 - accuracy: 0.8086 - val_loss: 0.4339 - val_accuracy: 0.8032\n",
            "Epoch 38/100\n",
            "313/313 [==============================] - 24s 77ms/step - loss: 0.4227 - accuracy: 0.8098 - val_loss: 0.4332 - val_accuracy: 0.7988\n",
            "Epoch 39/100\n",
            "313/313 [==============================] - 24s 77ms/step - loss: 0.4199 - accuracy: 0.8057 - val_loss: 0.4329 - val_accuracy: 0.7972\n",
            "Epoch 40/100\n",
            "313/313 [==============================] - 24s 76ms/step - loss: 0.4135 - accuracy: 0.8131 - val_loss: 0.4325 - val_accuracy: 0.8022\n",
            "Epoch 41/100\n",
            "313/313 [==============================] - 23s 74ms/step - loss: 0.4179 - accuracy: 0.8111 - val_loss: 0.4342 - val_accuracy: 0.8038\n",
            "Epoch 42/100\n",
            "313/313 [==============================] - 23s 74ms/step - loss: 0.4156 - accuracy: 0.8110 - val_loss: 0.4334 - val_accuracy: 0.8028\n",
            "Epoch 43/100\n",
            "313/313 [==============================] - 24s 77ms/step - loss: 0.4136 - accuracy: 0.8091 - val_loss: 0.4332 - val_accuracy: 0.8028\n"
          ],
          "name": "stdout"
        }
      ]
    },
    {
      "cell_type": "code",
      "metadata": {
        "colab": {
          "base_uri": "https://localhost:8080/",
          "height": 279
        },
        "id": "G2zFs4_T_aPm",
        "outputId": "a7d6e587-4276-4217-de3f-62ddf9711b5c"
      },
      "source": [
        "plt.plot(history.history['loss'])\n",
        "plt.plot(history.history['val_loss'])\n",
        "plt.xlabel('epoch')\n",
        "plt.ylabel('loss')\n",
        "plt.legend(['train', 'val'])\n",
        "plt.show()"
      ],
      "execution_count": 12,
      "outputs": [
        {
          "output_type": "display_data",
          "data": {
            "image/png": "[encoded data removed]",
            "text/plain": [
              "<Figure size 432x288 with 1 Axes>"
            ]
          },
          "metadata": {
            "tags": [],
            "needs_background": "light"
          }
        }
      ]
    },
    {
      "cell_type": "markdown",
      "metadata": {
        "id": "LSAGMX6r_etb"
      },
      "source": [
        "# GRU 신경망 훈련하기"
      ]
    },
    {
      "cell_type": "code",
      "metadata": {
        "colab": {
          "base_uri": "https://localhost:8080/"
        },
        "id": "w0Ha-2jm_iGv",
        "outputId": "6e96fbac-eca2-45d9-ae99-43d66c0214ea"
      },
      "source": [
        "model4 = keras.Sequential()\n",
        "\n",
        "model4.add(keras.layers.Embedding(500, 16, input_length=100))\n",
        "model4.add(keras.layers.GRU(8))\n",
        "model4.add(keras.layers.Dense(1, activation='sigmoid'))\n",
        "\n",
        "model4.summary()"
      ],
      "execution_count": 13,
      "outputs": [
        {
          "output_type": "stream",
          "text": [
            "Model: \"sequential_3\"\n",
            "_________________________________________________________________\n",
            "Layer (type)                 Output Shape              Param #   \n",
            "=================================================================\n",
            "embedding_3 (Embedding)      (None, 100, 16)           8000      \n",
            "_________________________________________________________________\n",
            "gru (GRU)                    (None, 8)                 624       \n",
            "_________________________________________________________________\n",
            "dense_3 (Dense)              (None, 1)                 9         \n",
            "=================================================================\n",
            "Total params: 8,633\n",
            "Trainable params: 8,633\n",
            "Non-trainable params: 0\n",
            "_________________________________________________________________\n"
          ],
          "name": "stdout"
        }
      ]
    },
    {
      "cell_type": "code",
      "metadata": {
        "colab": {
          "base_uri": "https://localhost:8080/"
        },
        "id": "PJnr4YQ5_j4I",
        "outputId": "15638b88-2d30-43df-96f4-187a1cc24976"
      },
      "source": [
        "rmsprop = keras.optimizers.RMSprop(learning_rate=1e-4)\n",
        "model4.compile(optimizer=rmsprop, loss='binary_crossentropy', \n",
        "               metrics=['accuracy'])\n",
        "\n",
        "checkpoint_cb = keras.callbacks.ModelCheckpoint('best-gru-model.h5', \n",
        "                                                save_best_only=True)\n",
        "early_stopping_cb = keras.callbacks.EarlyStopping(patience=3,\n",
        "                                                  restore_best_weights=True)\n",
        "\n",
        "history = model4.fit(train_seq, train_target, epochs=100, batch_size=64,\n",
        "                     validation_data=(val_seq, val_target),\n",
        "                     callbacks=[checkpoint_cb, early_stopping_cb])"
      ],
      "execution_count": 14,
      "outputs": [
        {
          "output_type": "stream",
          "text": [
            "Epoch 1/100\n",
            "313/313 [==============================] - 15s 42ms/step - loss: 0.6923 - accuracy: 0.5290 - val_loss: 0.6902 - val_accuracy: 0.5672\n",
            "Epoch 2/100\n",
            "313/313 [==============================] - 13s 40ms/step - loss: 0.6891 - accuracy: 0.5762 - val_loss: 0.6861 - val_accuracy: 0.5872\n",
            "Epoch 3/100\n",
            "313/313 [==============================] - 13s 40ms/step - loss: 0.6838 - accuracy: 0.6096 - val_loss: 0.6789 - val_accuracy: 0.6104\n",
            "Epoch 4/100\n",
            "313/313 [==============================] - 13s 41ms/step - loss: 0.6750 - accuracy: 0.6257 - val_loss: 0.6668 - val_accuracy: 0.6268\n",
            "Epoch 5/100\n",
            "313/313 [==============================] - 13s 40ms/step - loss: 0.6606 - accuracy: 0.6503 - val_loss: 0.6444 - val_accuracy: 0.6568\n",
            "Epoch 6/100\n",
            "313/313 [==============================] - 13s 40ms/step - loss: 0.6322 - accuracy: 0.6703 - val_loss: 0.6002 - val_accuracy: 0.7024\n",
            "Epoch 7/100\n",
            "313/313 [==============================] - 13s 40ms/step - loss: 0.5724 - accuracy: 0.7166 - val_loss: 0.5260 - val_accuracy: 0.7384\n",
            "Epoch 8/100\n",
            "313/313 [==============================] - 13s 41ms/step - loss: 0.5119 - accuracy: 0.7515 - val_loss: 0.5016 - val_accuracy: 0.7630\n",
            "Epoch 9/100\n",
            "313/313 [==============================] - 13s 41ms/step - loss: 0.4909 - accuracy: 0.7678 - val_loss: 0.4892 - val_accuracy: 0.7716\n",
            "Epoch 10/100\n",
            "313/313 [==============================] - 13s 40ms/step - loss: 0.4715 - accuracy: 0.7811 - val_loss: 0.4775 - val_accuracy: 0.7780\n",
            "Epoch 11/100\n",
            "313/313 [==============================] - 13s 40ms/step - loss: 0.4598 - accuracy: 0.7889 - val_loss: 0.4692 - val_accuracy: 0.7864\n",
            "Epoch 12/100\n",
            "313/313 [==============================] - 13s 41ms/step - loss: 0.4451 - accuracy: 0.7980 - val_loss: 0.4625 - val_accuracy: 0.7878\n",
            "Epoch 13/100\n",
            "313/313 [==============================] - 13s 41ms/step - loss: 0.4432 - accuracy: 0.8009 - val_loss: 0.4588 - val_accuracy: 0.7878\n",
            "Epoch 14/100\n",
            "313/313 [==============================] - 13s 40ms/step - loss: 0.4360 - accuracy: 0.8062 - val_loss: 0.4553 - val_accuracy: 0.7888\n",
            "Epoch 15/100\n",
            "313/313 [==============================] - 13s 41ms/step - loss: 0.4308 - accuracy: 0.8054 - val_loss: 0.4563 - val_accuracy: 0.7896\n",
            "Epoch 16/100\n",
            "313/313 [==============================] - 13s 41ms/step - loss: 0.4257 - accuracy: 0.8132 - val_loss: 0.4517 - val_accuracy: 0.7904\n",
            "Epoch 17/100\n",
            "313/313 [==============================] - 13s 41ms/step - loss: 0.4316 - accuracy: 0.8109 - val_loss: 0.4504 - val_accuracy: 0.7928\n",
            "Epoch 18/100\n",
            "313/313 [==============================] - 13s 41ms/step - loss: 0.4310 - accuracy: 0.8090 - val_loss: 0.4485 - val_accuracy: 0.7920\n",
            "Epoch 19/100\n",
            "313/313 [==============================] - 13s 41ms/step - loss: 0.4218 - accuracy: 0.8117 - val_loss: 0.4472 - val_accuracy: 0.7928\n",
            "Epoch 20/100\n",
            "313/313 [==============================] - 13s 41ms/step - loss: 0.4226 - accuracy: 0.8147 - val_loss: 0.4470 - val_accuracy: 0.7938\n",
            "Epoch 21/100\n",
            "313/313 [==============================] - 13s 40ms/step - loss: 0.4204 - accuracy: 0.8117 - val_loss: 0.4484 - val_accuracy: 0.7896\n",
            "Epoch 22/100\n",
            "313/313 [==============================] - 13s 40ms/step - loss: 0.4186 - accuracy: 0.8137 - val_loss: 0.4461 - val_accuracy: 0.7952\n",
            "Epoch 23/100\n",
            "313/313 [==============================] - 13s 40ms/step - loss: 0.4249 - accuracy: 0.8118 - val_loss: 0.4448 - val_accuracy: 0.7962\n",
            "Epoch 24/100\n",
            "313/313 [==============================] - 13s 41ms/step - loss: 0.4224 - accuracy: 0.8142 - val_loss: 0.4449 - val_accuracy: 0.7954\n",
            "Epoch 25/100\n",
            "313/313 [==============================] - 13s 41ms/step - loss: 0.4212 - accuracy: 0.8107 - val_loss: 0.4458 - val_accuracy: 0.7940\n",
            "Epoch 26/100\n",
            "313/313 [==============================] - 13s 41ms/step - loss: 0.4135 - accuracy: 0.8167 - val_loss: 0.4454 - val_accuracy: 0.7922\n"
          ],
          "name": "stdout"
        }
      ]
    },
    {
      "cell_type": "code",
      "metadata": {
        "colab": {
          "base_uri": "https://localhost:8080/",
          "height": 279
        },
        "id": "zWbktMsD_mMw",
        "outputId": "ba6942ec-248e-4f6c-8a0b-1e033420f010"
      },
      "source": [
        "plt.plot(history.history['loss'])\n",
        "plt.plot(history.history['val_loss'])\n",
        "plt.xlabel('epoch')\n",
        "plt.ylabel('loss')\n",
        "plt.legend(['train', 'val'])\n",
        "plt.show()"
      ],
      "execution_count": 15,
      "outputs": [
        {
          "output_type": "display_data",
          "data": {
            "image/png": "[encoded data removed]",
            "text/plain": [
              "<Figure size 432x288 with 1 Axes>"
            ]
          },
          "metadata": {
            "tags": [],
            "needs_background": "light"
          }
        }
      ]
    },
    {
      "cell_type": "markdown",
      "metadata": {
        "id": "pXY903kd_6Ae"
      },
      "source": [
        "# 마무리"
      ]
    },
    {
      "cell_type": "code",
      "metadata": {
        "colab": {
          "base_uri": "https://localhost:8080/"
        },
        "id": "v3hqSx90_ndf",
        "outputId": "1c36ae0f-9091-43a4-d420-ced54be34971"
      },
      "source": [
        "test_seq = pad_sequences(test_input, maxlen=100)\n",
        "\n",
        "rnn_model = keras.models.load_model('best-2rnn-model.h5')\n",
        "\n",
        "rnn_model.evaluate(test_seq, test_target)"
      ],
      "execution_count": 16,
      "outputs": [
        {
          "output_type": "stream",
          "text": [
            "782/782 [==============================] - 10s 11ms/step - loss: 0.4271 - accuracy: 0.7994\n"
          ],
          "name": "stdout"
        },
        {
          "output_type": "execute_result",
          "data": {
            "text/plain": [
              "[0.4270760416984558, 0.7994400262832642]"
            ]
          },
          "metadata": {
            "tags": []
          },
          "execution_count": 16
        }
      ]
    }
  ]
}