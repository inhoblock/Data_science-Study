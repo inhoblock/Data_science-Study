{
  "nbformat": 4,
  "nbformat_minor": 0,
  "metadata": {
    "colab": {
      "name": "Chapter03_3.ipynb",
      "provenance": [],
      "authorship_tag": "ABX9TyMOCmm6gI5T0a3G/oWjxNeM",
      "include_colab_link": true
    },
    "kernelspec": {
      "name": "python3",
      "display_name": "Python 3"
    }
  },
  "cells": [
    {
      "cell_type": "markdown",
      "metadata": {
        "id": "view-in-github",
        "colab_type": "text"
      },
      "source": [
        "<a href=\"https://colab.research.google.com/github/inhoblock/Data_science-Study/blob/main/Chapter03_3.ipynb\" target=\"_parent\"><img src=\"https://colab.research.google.com/assets/colab-badge.svg\" alt=\"Open In Colab\"/></a>"
      ]
    },
    {
      "cell_type": "markdown",
      "metadata": {
        "id": "bbaWzcpmd7jG"
      },
      "source": [
        "# Chapter 3_3\r\n",
        "\r\n",
        "Feature engineering and Regularization"
      ]
    },
    {
      "cell_type": "markdown",
      "metadata": {
        "id": "hdU5-DXSfmpz"
      },
      "source": [
        "# 데이터 입력"
      ]
    },
    {
      "cell_type": "code",
      "metadata": {
        "id": "6YMvIG8GdPOT"
      },
      "source": [
        "import pandas as pd\r\n",
        "\r\n",
        "df = pd.read_csv('https://bit.ly/perch_csv_data')\r\n",
        "perch_full = df.to_numpy()"
      ],
      "execution_count": 1,
      "outputs": []
    },
    {
      "cell_type": "markdown",
      "metadata": {
        "id": "U3ZB8ZOlnHi8"
      },
      "source": [
        "df : length, height, width 세 종류의 feature."
      ]
    },
    {
      "cell_type": "code",
      "metadata": {
        "id": "Ca8cqCxjf52Y"
      },
      "source": [
        "import numpy as np\r\n",
        "\r\n",
        "perch_weight = np.array(\r\n",
        "    [5.9, 32.0, 40.0, 51.5, 70.0, 100.0, 78.0, 80.0, 85.0, 85.0, \r\n",
        "     110.0, 115.0, 125.0, 130.0, 120.0, 120.0, 130.0, 135.0, 110.0, \r\n",
        "     130.0, 150.0, 145.0, 150.0, 170.0, 225.0, 145.0, 188.0, 180.0, \r\n",
        "     197.0, 218.0, 300.0, 260.0, 265.0, 250.0, 250.0, 300.0, 320.0, \r\n",
        "     514.0, 556.0, 840.0, 685.0, 700.0, 700.0, 690.0, 900.0, 650.0, \r\n",
        "     820.0, 850.0, 900.0, 1015.0, 820.0, 1100.0, 1000.0, 1100.0, \r\n",
        "     1000.0, 1000.0]\r\n",
        "     )"
      ],
      "execution_count": 2,
      "outputs": []
    },
    {
      "cell_type": "code",
      "metadata": {
        "id": "KN46_sk_gDun"
      },
      "source": [
        "from sklearn.model_selection import train_test_split\r\n",
        "\r\n",
        "train_input, test_input, train_target, test_target = train_test_split(perch_full, perch_weight, random_state = 42)"
      ],
      "execution_count": 3,
      "outputs": []
    },
    {
      "cell_type": "markdown",
      "metadata": {
        "id": "61xdGEoEgmih"
      },
      "source": [
        "# 사이킷런의 변환기 ( Transformer )\r\n",
        "\r\n",
        "특성을 만들거나 전처리하기 위한 다양한 클래스들을 제공."
      ]
    },
    {
      "cell_type": "code",
      "metadata": {
        "colab": {
          "base_uri": "https://localhost:8080/"
        },
        "id": "e5hqJ0pZgZZ3",
        "outputId": "1e654172-07d1-476a-dcc1-fa65e8d8a8b5"
      },
      "source": [
        "from sklearn.preprocessing import PolynomialFeatures\r\n",
        "\r\n",
        "poly = PolynomialFeatures()\r\n",
        "poly.fit([[2,3]])\r\n",
        "print(poly.transform([[2,3]]))"
      ],
      "execution_count": 4,
      "outputs": [
        {
          "output_type": "stream",
          "text": [
            "[[1. 2. 3. 4. 6. 9.]]\n"
          ],
          "name": "stdout"
        }
      ]
    },
    {
      "cell_type": "markdown",
      "metadata": {
        "id": "yOq-QKikhtdE"
      },
      "source": [
        "x, y 두 개의 feature가 있다면 $x^0 y^0, x, y, x y, x^2, y^2$ 6개의 feature 생성."
      ]
    },
    {
      "cell_type": "markdown",
      "metadata": {
        "id": "9Jei-_5KiuR0"
      },
      "source": [
        "사이킷런의 모델은 자동으로 절편을 추가하므로 $x^0 y^0$ 항은 특성으로서의 의미가 없음."
      ]
    },
    {
      "cell_type": "code",
      "metadata": {
        "colab": {
          "base_uri": "https://localhost:8080/"
        },
        "id": "OnPAsr7IhrQv",
        "outputId": "8f95576e-6fac-4ada-9e8b-ed3391bef118"
      },
      "source": [
        "poly = PolynomialFeatures(include_bias = False)\r\n",
        "poly.fit([[2,3]])\r\n",
        "print(poly.transform([[2,3]]))"
      ],
      "execution_count": 5,
      "outputs": [
        {
          "output_type": "stream",
          "text": [
            "[[2. 3. 4. 6. 9.]]\n"
          ],
          "name": "stdout"
        }
      ]
    },
    {
      "cell_type": "markdown",
      "metadata": {
        "id": "iS74yr-gmMxk"
      },
      "source": [
        "( transformer에서 fit은 모델에서의 fit 처럼 훈련을 의미하는 것은 아님 )"
      ]
    },
    {
      "cell_type": "code",
      "metadata": {
        "colab": {
          "base_uri": "https://localhost:8080/"
        },
        "id": "Y2BwUyTgitmv",
        "outputId": "6099ff39-0430-4ce1-d9de-64e61faab658"
      },
      "source": [
        "poly = PolynomialFeatures(include_bias = False)\r\n",
        "poly.fit(train_input)\r\n",
        "train_poly = poly.transform(train_input)\r\n",
        "test_poly = poly.transform(test_input)\r\n",
        "\r\n",
        "print(train_poly.shape)\r\n",
        "poly.get_feature_names()"
      ],
      "execution_count": 6,
      "outputs": [
        {
          "output_type": "stream",
          "text": [
            "(42, 9)\n"
          ],
          "name": "stdout"
        },
        {
          "output_type": "execute_result",
          "data": {
            "text/plain": [
              "['x0', 'x1', 'x2', 'x0^2', 'x0 x1', 'x0 x2', 'x1^2', 'x1 x2', 'x2^2']"
            ]
          },
          "metadata": {
            "tags": []
          },
          "execution_count": 6
        }
      ]
    },
    {
      "cell_type": "markdown",
      "metadata": {
        "id": "ulsnQhsloMxM"
      },
      "source": [
        "# Multiple Regression ( 다중 회귀 )\r\n",
        "\r\n",
        "여러 개의 특성을 이용한 선형 회귀"
      ]
    },
    {
      "cell_type": "code",
      "metadata": {
        "colab": {
          "base_uri": "https://localhost:8080/"
        },
        "id": "KHkGTLn6oVjQ",
        "outputId": "2de96960-cba7-4298-9db8-ed4c9f5faca3"
      },
      "source": [
        "from sklearn.linear_model import LinearRegression\r\n",
        "\r\n",
        "lr = LinearRegression()\r\n",
        "lr.fit(train_poly, train_target)\r\n",
        "\r\n",
        "print(lr.score(train_poly, train_target))\r\n",
        "print(lr.score(test_poly, test_target))"
      ],
      "execution_count": 7,
      "outputs": [
        {
          "output_type": "stream",
          "text": [
            "0.9903183436982124\n",
            "0.9714559911594132\n"
          ],
          "name": "stdout"
        }
      ]
    },
    {
      "cell_type": "markdown",
      "metadata": {
        "id": "m5MT_RL7qQh8"
      },
      "source": [
        "여러개의 feacher를 이용하니 ch.3_2 의 under-fitting 이 해결되었다."
      ]
    },
    {
      "cell_type": "markdown",
      "metadata": {
        "id": "F-nKLs1MquHO"
      },
      "source": [
        "#feature의 개수는 많을수록 좋은가?"
      ]
    },
    {
      "cell_type": "code",
      "metadata": {
        "colab": {
          "base_uri": "https://localhost:8080/"
        },
        "id": "hjaq_Vh1qN_0",
        "outputId": "d8498121-c8b3-44c5-a396-b1225fec1de3"
      },
      "source": [
        "poly = PolynomialFeatures(degree = 5, include_bias = False)\r\n",
        "poly.fit(train_input)\r\n",
        "\r\n",
        "train_poly = poly.transform(train_input)\r\n",
        "test_poly = poly.transform(test_input)\r\n",
        "\r\n",
        "lr.fit(train_poly, train_target)"
      ],
      "execution_count": 9,
      "outputs": [
        {
          "output_type": "execute_result",
          "data": {
            "text/plain": [
              "LinearRegression(copy_X=True, fit_intercept=True, n_jobs=None, normalize=False)"
            ]
          },
          "metadata": {
            "tags": []
          },
          "execution_count": 9
        }
      ]
    },
    {
      "cell_type": "code",
      "metadata": {
        "colab": {
          "base_uri": "https://localhost:8080/"
        },
        "id": "QtYg7C6ArZb7",
        "outputId": "45d9961b-c96c-4799-9746-eae9ba545679"
      },
      "source": [
        "print(train_poly.shape)\r\n",
        "print(lr.score(train_poly, train_target))\r\n",
        "print(lr.score(test_poly, test_target))"
      ],
      "execution_count": 10,
      "outputs": [
        {
          "output_type": "stream",
          "text": [
            "(42, 55)\n",
            "0.9999999999991096\n",
            "-144.40579242335605\n"
          ],
          "name": "stdout"
        }
      ]
    },
    {
      "cell_type": "markdown",
      "metadata": {
        "id": "1ElibHTCr0x3"
      },
      "source": [
        "55개의 feature.\r\n",
        "\r\n",
        "매우 높은 train set의 점수.\r\n",
        "\r\n",
        "음수가 나와버린 test set의 점수.\r\n"
      ]
    },
    {
      "cell_type": "markdown",
      "metadata": {
        "id": "pTyK3QqlsGOC"
      },
      "source": [
        "# Why?\r\n",
        "\r\n",
        "![캡처1.PNG](data:image/png;base64,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)"
      ]
    },
    {
      "cell_type": "markdown",
      "metadata": {
        "id": "xHHFO4rUsckI"
      },
      "source": [
        "feature의 개수를 무리하게 늘려주면 과도한 over-fitting이 일어남."
      ]
    },
    {
      "cell_type": "markdown",
      "metadata": {
        "id": "-IxyWCW6tkgd"
      },
      "source": [
        "# Regularization ( 규제 )\r\n",
        "\r\n",
        "linear regression의 경우 계수들의 크기를 작게 만듬."
      ]
    },
    {
      "cell_type": "code",
      "metadata": {
        "id": "yEdcBrheuHmM"
      },
      "source": [
        "# 표준화\r\n",
        "\r\n",
        "from sklearn.preprocessing import StandardScaler\r\n",
        "\r\n",
        "ss = StandardScaler()\r\n",
        "ss.fit(train_poly)\r\n",
        "\r\n",
        "train_scaled = ss.transform(train_poly)\r\n",
        "test_scaled = ss.transform(test_poly)"
      ],
      "execution_count": 11,
      "outputs": []
    },
    {
      "cell_type": "markdown",
      "metadata": {
        "id": "O_Dy0Tllu9-g"
      },
      "source": [
        "# 릿지 회귀\r\n",
        "\r\n",
        "선형 회귀 + 규제"
      ]
    },
    {
      "cell_type": "code",
      "metadata": {
        "colab": {
          "base_uri": "https://localhost:8080/"
        },
        "id": "ZpG6QfAAuysA",
        "outputId": "c71a044a-c5d1-4c98-f8aa-dc03b665b998"
      },
      "source": [
        "from sklearn.linear_model import Ridge\r\n",
        "\r\n",
        "ridge = Ridge()\r\n",
        "ridge.fit(train_scaled, train_target)\r\n",
        "\r\n",
        "print(ridge.score(train_scaled, train_target))\r\n",
        "print(ridge.score(test_scaled, test_target))"
      ],
      "execution_count": 13,
      "outputs": [
        {
          "output_type": "stream",
          "text": [
            "0.9896101671037343\n",
            "0.9790693977615398\n"
          ],
          "name": "stdout"
        }
      ]
    },
    {
      "cell_type": "markdown",
      "metadata": {
        "id": "ShtQ4QTTy2vl"
      },
      "source": [
        "regularization 결과 over - fitting 이 해결되었다."
      ]
    },
    {
      "cell_type": "markdown",
      "metadata": {
        "id": "5u6XyBFPyS2y"
      },
      "source": [
        "# 규제의 정도?\r\n",
        "적절한 alpha 값 찾기 "
      ]
    },
    {
      "cell_type": "code",
      "metadata": {
        "id": "x8zjtf43v7fi"
      },
      "source": [
        "import matplotlib.pyplot as plt\r\n",
        "\r\n",
        "train_score = []\r\n",
        "test_score = []\r\n",
        "\r\n",
        "alpha_list = [0.001, 0.01, 0.1, 1, 10, 100]\r\n",
        "\r\n",
        "for alpha in alpha_list:\r\n",
        "  ridge = Ridge(alpha = alpha)\r\n",
        "  ridge.fit(train_scaled, train_target)\r\n",
        "\r\n",
        "  train_score.append(ridge.score(train_scaled, train_target))\r\n",
        "  test_score.append(ridge.score(test_scaled, test_target))\r\n"
      ],
      "execution_count": 14,
      "outputs": []
    },
    {
      "cell_type": "code",
      "metadata": {
        "colab": {
          "base_uri": "https://localhost:8080/",
          "height": 297
        },
        "id": "n3X44o9Y0bOO",
        "outputId": "042ea247-4421-4246-f8f9-5882813e2f98"
      },
      "source": [
        "plt.plot(np.log10(alpha_list), train_score)\r\n",
        "plt.plot(np.log10(alpha_list), test_score)\r\n",
        "plt.xlabel('alpha')\r\n",
        "plt.ylabel('R^2')\r\n",
        "plt.show"
      ],
      "execution_count": 16,
      "outputs": [
        {
          "output_type": "execute_result",
          "data": {
            "text/plain": [
              "<function matplotlib.pyplot.show>"
            ]
          },
          "metadata": {
            "tags": []
          },
          "execution_count": 16
        },
        {
          "output_type": "display_data",
          "data": {
            "image/png": "[encoded data removed]",
            "text/plain": [
              "<Figure size 432x288 with 1 Axes>"
            ]
          },
          "metadata": {
            "tags": [],
            "needs_background": "light"
          }
        }
      ]
    },
    {
      "cell_type": "markdown",
      "metadata": {
        "id": "J8kI3xNK0-S0"
      },
      "source": [
        "alpha_list 값들을 동일한 간격으로 표현하기 위해 log함수 사용.\r\n",
        "\r\n",
        "두 그래프가 가깝고, test set의 점수가 높은 log(alpha) = -1 이 가장 합리적으로 보임.\r\n",
        "\r\n",
        "alpha = 0.1 "
      ]
    },
    {
      "cell_type": "code",
      "metadata": {
        "colab": {
          "base_uri": "https://localhost:8080/"
        },
        "id": "oQ8lDFOb0nW3",
        "outputId": "bf185971-9b28-499b-c48e-a7c75722eb59"
      },
      "source": [
        "ridge = Ridge(alpha = 0.1)\r\n",
        "ridge.fit(train_scaled, train_target)\r\n",
        "\r\n",
        "print(ridge.score(train_scaled, train_target))\r\n",
        "print(ridge.score(test_scaled, test_target))"
      ],
      "execution_count": 17,
      "outputs": [
        {
          "output_type": "stream",
          "text": [
            "0.9903815817570366\n",
            "0.9827976465386927\n"
          ],
          "name": "stdout"
        }
      ]
    },
    {
      "cell_type": "markdown",
      "metadata": {
        "id": "JQMTojWd1s1U"
      },
      "source": [
        "default값 (alpha = 1) 보다 train set, test set 점수가 높아진 것을 확인할 수 있음."
      ]
    },
    {
      "cell_type": "markdown",
      "metadata": {
        "id": "LOYbmQ2B19TF"
      },
      "source": [
        "# 라쏘 회귀\r\n",
        "\r\n",
        "릿지와 비슷하지만 계수를 0으로 만들 수 있음."
      ]
    },
    {
      "cell_type": "code",
      "metadata": {
        "colab": {
          "base_uri": "https://localhost:8080/"
        },
        "id": "TDk_Qv-J1r9P",
        "outputId": "c1ef21c2-40d2-4602-e9cf-295fce0e0395"
      },
      "source": [
        "from sklearn.linear_model import Lasso\r\n",
        "\r\n",
        "lasso = Lasso()\r\n",
        "lasso.fit(train_scaled, train_target)\r\n",
        "\r\n",
        "print(lasso.score(train_scaled, train_target))\r\n",
        "print(lasso.score(test_scaled, test_target))"
      ],
      "execution_count": 24,
      "outputs": [
        {
          "output_type": "stream",
          "text": [
            "0.9897898972080961\n",
            "0.9800593698421883\n"
          ],
          "name": "stdout"
        }
      ]
    },
    {
      "cell_type": "markdown",
      "metadata": {
        "id": "bFwNIFqj3YMj"
      },
      "source": [
        "릿지와 마찬가지로 over - fitting이 해결되었다."
      ]
    },
    {
      "cell_type": "markdown",
      "metadata": {
        "id": "t7sTAlgW3ebF"
      },
      "source": [
        "# 최적의 alpha 값?"
      ]
    },
    {
      "cell_type": "code",
      "metadata": {
        "colab": {
          "base_uri": "https://localhost:8080/"
        },
        "id": "3_vl0R4H3TYf",
        "outputId": "1bdf8432-ed87-4f33-c2b7-3ed9379cd9fb"
      },
      "source": [
        "train_score = []\r\n",
        "test_score = []\r\n",
        "\r\n",
        "alpha_list = [0.001, 0.01, 0.1, 1, 10, 100]\r\n",
        "\r\n",
        "for alpha in alpha_list:\r\n",
        "  lasso = Lasso(alpha = alpha, max_iter = 10000)\r\n",
        "  # max_iter : 필요한 계산의 반복 횟수 (중요 x)\r\n",
        "  lasso.fit(train_scaled, train_target)\r\n",
        "\r\n",
        "  train_score.append(lasso.score(train_scaled, train_target))\r\n",
        "  test_score.append(lasso.score(test_scaled, test_target))"
      ],
      "execution_count": 20,
      "outputs": [
        {
          "output_type": "stream",
          "text": [
            "/usr/local/lib/python3.7/dist-packages/sklearn/linear_model/_coordinate_descent.py:476: ConvergenceWarning: Objective did not converge. You might want to increase the number of iterations. Duality gap: 18778.697957792876, tolerance: 518.2793833333334\n",
            "  positive)\n",
            "/usr/local/lib/python3.7/dist-packages/sklearn/linear_model/_coordinate_descent.py:476: ConvergenceWarning: Objective did not converge. You might want to increase the number of iterations. Duality gap: 12972.821345404844, tolerance: 518.2793833333334\n",
            "  positive)\n"
          ],
          "name": "stderr"
        }
      ]
    },
    {
      "cell_type": "code",
      "metadata": {
        "colab": {
          "base_uri": "https://localhost:8080/",
          "height": 279
        },
        "id": "fdKoCGSB41hb",
        "outputId": "6e485f6a-27f9-4360-fc81-351d52ad35e0"
      },
      "source": [
        "plt.plot(np.log10(alpha_list), train_score)\r\n",
        "plt.plot(np.log10(alpha_list), test_score)\r\n",
        "plt.xlabel('alpha')\r\n",
        "plt.ylabel('R^2')\r\n",
        "plt.show()"
      ],
      "execution_count": 21,
      "outputs": [
        {
          "output_type": "display_data",
          "data": {
            "image/png": "[encoded data removed]",
            "text/plain": [
              "<Figure size 432x288 with 1 Axes>"
            ]
          },
          "metadata": {
            "tags": [],
            "needs_background": "light"
          }
        }
      ]
    },
    {
      "cell_type": "markdown",
      "metadata": {
        "id": "udGbK8vW5M2l"
      },
      "source": [
        "라쏘의 경우 default값 (alpha = 1)이 최적값임."
      ]
    },
    {
      "cell_type": "markdown",
      "metadata": {
        "id": "TFmhBhz45dDN"
      },
      "source": [
        "# [Mark]\r\n",
        "\r\n",
        "- 라쏘는 계수를 0으로 최적화시킬 수 있음.\r\n",
        "\r\n",
        "- 이를 이용해 라쏘 모델을 유용한 특성을 골라내는 용도로도 사용할 수 있음."
      ]
    },
    {
      "cell_type": "code",
      "metadata": {
        "colab": {
          "base_uri": "https://localhost:8080/"
        },
        "id": "YhdcWHgm5IFH",
        "outputId": "d87fd92c-bb1b-4447-feda-46eed4656138"
      },
      "source": [
        "print(np.sum(lasso.coef_ == 0))"
      ],
      "execution_count": 25,
      "outputs": [
        {
          "output_type": "stream",
          "text": [
            "42\n"
          ],
          "name": "stdout"
        }
      ]
    },
    {
      "cell_type": "markdown",
      "metadata": {
        "id": "2Bu-X-qv6IwW"
      },
      "source": [
        "라쏘 모델 훈련 결과 55개의 특성 중 42개 특성의 계수가 0임.\r\n",
        "\r\n",
        "15개의 특성만으로도 충분히 좋은 모델을 만들 수 있다는 의미."
      ]
    }
  ]
}
