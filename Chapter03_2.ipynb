{
  "nbformat": 4,
  "nbformat_minor": 0,
  "metadata": {
    "colab": {
      "name": "Chapter03_2.ipynb",
      "provenance": [],
      "authorship_tag": "ABX9TyOUs6XL+nRxDEie922GviuN",
      "include_colab_link": true
    },
    "kernelspec": {
      "name": "python3",
      "display_name": "Python 3"
    }
  },
  "cells": [
    {
      "cell_type": "markdown",
      "metadata": {
        "id": "view-in-github",
        "colab_type": "text"
      },
      "source": [
        "<a href=\"https://colab.research.google.com/github/inhoblock/Data_science-Study/blob/main/Chapter03_2.ipynb\" target=\"_parent\"><img src=\"https://colab.research.google.com/assets/colab-badge.svg\" alt=\"Open In Colab\"/></a>"
      ]
    },
    {
      "cell_type": "markdown",
      "metadata": {
        "id": "tRP34Z3kGdWG"
      },
      "source": [
        "# Chapter3_2\r\n",
        "\r\n",
        "Linear Regression"
      ]
    },
    {
      "cell_type": "markdown",
      "metadata": {
        "id": "oOLSvdkSG6mK"
      },
      "source": [
        "# 데이터 입력 및 훈련"
      ]
    },
    {
      "cell_type": "code",
      "metadata": {
        "id": "luO82omfF9of"
      },
      "source": [
        "import numpy as np\r\n",
        "\r\n",
        "perch_length = np.array([8.4, 13.7, 15.0, 16.2, 17.4, 18.0, 18.7, 19.0, 19.6, 20.0, 21.0,\r\n",
        "       21.0, 21.0, 21.3, 22.0, 22.0, 22.0, 22.0, 22.0, 22.5, 22.5, 22.7,\r\n",
        "       23.0, 23.5, 24.0, 24.0, 24.6, 25.0, 25.6, 26.5, 27.3, 27.5, 27.5,\r\n",
        "       27.5, 28.0, 28.7, 30.0, 32.8, 34.5, 35.0, 36.5, 36.0, 37.0, 37.0,\r\n",
        "       39.0, 39.0, 39.0, 40.0, 40.0, 40.0, 40.0, 42.0, 43.0, 43.0, 43.5,\r\n",
        "       44.0])\r\n",
        "perch_weight = np.array([5.9, 32.0, 40.0, 51.5, 70.0, 100.0, 78.0, 80.0, 85.0, 85.0, 110.0,\r\n",
        "       115.0, 125.0, 130.0, 120.0, 120.0, 130.0, 135.0, 110.0, 130.0,\r\n",
        "       150.0, 145.0, 150.0, 170.0, 225.0, 145.0, 188.0, 180.0, 197.0,\r\n",
        "       218.0, 300.0, 260.0, 265.0, 250.0, 250.0, 300.0, 320.0, 514.0,\r\n",
        "       556.0, 840.0, 685.0, 700.0, 700.0, 690.0, 900.0, 650.0, 820.0,\r\n",
        "       850.0, 900.0, 1015.0, 820.0, 1100.0, 1000.0, 1100.0, 1000.0,\r\n",
        "       1000.0])"
      ],
      "execution_count": 2,
      "outputs": []
    },
    {
      "cell_type": "code",
      "metadata": {
        "id": "q2NTAzqRHM-B"
      },
      "source": [
        "from sklearn.model_selection import train_test_split\r\n",
        "\r\n",
        "train_input, test_input, train_target, test_target = train_test_split(perch_length, perch_weight, random_state = 42)\r\n",
        "\r\n",
        "train_input = train_input.reshape(-1,1)\r\n",
        "test_input = test_input.reshape(-1,1)"
      ],
      "execution_count": 4,
      "outputs": []
    },
    {
      "cell_type": "markdown",
      "metadata": {
        "id": "cChP-69aH1kB"
      },
      "source": [
        "K - Neighbors Regression 모델로 훈련"
      ]
    },
    {
      "cell_type": "code",
      "metadata": {
        "colab": {
          "base_uri": "https://localhost:8080/"
        },
        "id": "CdLEJAS7Hgdx",
        "outputId": "181cd172-32e5-47da-b3c6-81089aa5b620"
      },
      "source": [
        "from sklearn.neighbors import KNeighborsRegressor\r\n",
        "\r\n",
        "knr = KNeighborsRegressor(n_neighbors = 3)\r\n",
        "knr.fit(train_input, train_target)"
      ],
      "execution_count": 7,
      "outputs": [
        {
          "output_type": "execute_result",
          "data": {
            "text/plain": [
              "KNeighborsRegressor(algorithm='auto', leaf_size=30, metric='minkowski',\n",
              "                    metric_params=None, n_jobs=None, n_neighbors=3, p=2,\n",
              "                    weights='uniform')"
            ]
          },
          "metadata": {
            "tags": []
          },
          "execution_count": 7
        }
      ]
    },
    {
      "cell_type": "markdown",
      "metadata": {
        "id": "BghdRwnWJN10"
      },
      "source": [
        "50cm (1500g) 인 농어 데이터를 입력하면 몇 g 으로 예측할까?"
      ]
    },
    {
      "cell_type": "code",
      "metadata": {
        "colab": {
          "base_uri": "https://localhost:8080/"
        },
        "id": "m0fZ5erzImBW",
        "outputId": "b939ad3d-9ac6-411c-8797-a86a95eebc45"
      },
      "source": [
        "print(knr.predict([[50]]))"
      ],
      "execution_count": 8,
      "outputs": [
        {
          "output_type": "stream",
          "text": [
            "[1033.33333333]\n"
          ],
          "name": "stdout"
        }
      ]
    },
    {
      "cell_type": "code",
      "metadata": {
        "colab": {
          "base_uri": "https://localhost:8080/",
          "height": 279
        },
        "id": "db_KGxTmJioB",
        "outputId": "db4f3ee6-c004-4100-c4d6-64e10e6a9391"
      },
      "source": [
        "import matplotlib.pyplot as plt\r\n",
        "\r\n",
        "distances, indexes = knr.kneighbors([[50]])\r\n",
        "\r\n",
        "plt.scatter(train_input, train_target)\r\n",
        "plt.scatter(train_input[indexes], train_target[indexes], marker = 'D')\r\n",
        "plt.scatter(50, 1033, marker = '^') # 50cm 농어\r\n",
        "plt.xlabel('length')\r\n",
        "plt.ylabel('weight')\r\n",
        "plt.show()"
      ],
      "execution_count": 9,
      "outputs": [
        {
          "output_type": "display_data",
          "data": {
            "image/png": "[encoded data removed]",
            "text/plain": [
              "<Figure size 432x288 with 1 Axes>"
            ]
          },
          "metadata": {
            "tags": [],
            "needs_background": "light"
          }
        }
      ]
    },
    {
      "cell_type": "markdown",
      "metadata": {
        "id": "DOr3KCQiKV38"
      },
      "source": [
        "50(length) 근처 데이터들이 멀리 떨어져있기 때문에 실제 농어의 무게 1500g 보다 훨씬 작은 1033g이 나옴.\r\n",
        "\r\n",
        "[mark] 50보다 더 큰 데이터를 입력해도 항상 1033g이 나옴"
      ]
    },
    {
      "cell_type": "markdown",
      "metadata": {
        "id": "yhR6juJZLD79"
      },
      "source": [
        "# Linear Regression (선형 회귀)"
      ]
    },
    {
      "cell_type": "code",
      "metadata": {
        "colab": {
          "base_uri": "https://localhost:8080/"
        },
        "id": "aHQ21K-bKTvv",
        "outputId": "34322aaa-5889-49db-e20d-5ee6251cc5be"
      },
      "source": [
        "from sklearn.linear_model import LinearRegression\r\n",
        "\r\n",
        "lr = LinearRegression()\r\n",
        "lr.fit(train_input, train_target)\r\n",
        "\r\n",
        "print(lr.predict([[50]]))"
      ],
      "execution_count": 10,
      "outputs": [
        {
          "output_type": "stream",
          "text": [
            "[1241.83860323]\n"
          ],
          "name": "stdout"
        }
      ]
    },
    {
      "cell_type": "code",
      "metadata": {
        "colab": {
          "base_uri": "https://localhost:8080/",
          "height": 279
        },
        "id": "2xTe25PRLmNg",
        "outputId": "174c69e5-4cee-4331-f0b8-b196b51edea7"
      },
      "source": [
        "plt.scatter(train_input, train_target)\r\n",
        "plt.plot([15,50], [15 * lr.coef_ + lr.intercept_, 50 * lr.coef_ + lr.intercept_])\r\n",
        "plt.scatter(50, 1241.8, marker = '^')\r\n",
        "plt.xlabel('length')\r\n",
        "plt.ylabel('weight')\r\n",
        "plt.show()"
      ],
      "execution_count": 11,
      "outputs": [
        {
          "output_type": "display_data",
          "data": {
            "image/png": "[encoded data removed]",
            "text/plain": [
              "<Figure size 432x288 with 1 Axes>"
            ]
          },
          "metadata": {
            "tags": [],
            "needs_background": "light"
          }
        }
      ]
    },
    {
      "cell_type": "code",
      "metadata": {
        "colab": {
          "base_uri": "https://localhost:8080/"
        },
        "id": "YwC9nMliMLq-",
        "outputId": "7163484f-41bf-4135-96db-1866a8c410e8"
      },
      "source": [
        "print(lr.score(train_input, train_target))\r\n",
        "print((lr.score(test_input, test_target)))"
      ],
      "execution_count": 12,
      "outputs": [
        {
          "output_type": "stream",
          "text": [
            "0.9398463339976039\n",
            "0.8247503123313558\n"
          ],
          "name": "stdout"
        }
      ]
    },
    {
      "cell_type": "markdown",
      "metadata": {
        "id": "VKSyqnRaMon-"
      },
      "source": [
        "knr보다는 나아졌지만, 여전히 무게가 적게나오고 길이가 작은 농어들의 무게가 음수임. ( 과소적합 )\r\n",
        "\r\n",
        "곡선을 따라 회귀시킬 수 있을까?"
      ]
    },
    {
      "cell_type": "markdown",
      "metadata": {
        "id": "ivel92CdNKOn"
      },
      "source": [
        "# Polynomial Regression (다항 회귀)"
      ]
    },
    {
      "cell_type": "code",
      "metadata": {
        "colab": {
          "base_uri": "https://localhost:8080/"
        },
        "id": "Nt2cllLfMXNX",
        "outputId": "aa88175a-a3c7-4e9b-8867-e816905843ae"
      },
      "source": [
        "train_poly = np.column_stack((train_input ** 2, train_input))\r\n",
        "test_poly = np.column_stack((test_input ** 2, test_input))\r\n",
        "\r\n",
        "lr = LinearRegression()\r\n",
        "lr.fit(train_poly, train_target)\r\n",
        "print(lr.predict([[50**2, 50]]))"
      ],
      "execution_count": 15,
      "outputs": [
        {
          "output_type": "stream",
          "text": [
            "[1573.98423528]\n"
          ],
          "name": "stdout"
        }
      ]
    },
    {
      "cell_type": "markdown",
      "metadata": {
        "id": "f87Zk5ZTXnNr"
      },
      "source": [
        "**$x^2$ 를 하나의 feature로 취급함으로써 선형성을 유지할 수 있음.**"
      ]
    },
    {
      "cell_type": "code",
      "metadata": {
        "colab": {
          "base_uri": "https://localhost:8080/",
          "height": 297
        },
        "id": "_z-iMcaMXjaK",
        "outputId": "88605107-92a4-4be7-a55c-3d57d11c96b4"
      },
      "source": [
        "point = np.arange(15, 50)\r\n",
        "\r\n",
        "plt.scatter(train_input, train_target)\r\n",
        "plt.plot(point, lr.coef_[0]*(point**2) + lr.coef_[1] * point + lr.intercept_)\r\n",
        "plt.scatter([50], [1574], marker = '^')\r\n",
        "plt.xlabel('length')\r\n",
        "plt.ylabel('weight')\r\n",
        "plt.show"
      ],
      "execution_count": 21,
      "outputs": [
        {
          "output_type": "execute_result",
          "data": {
            "text/plain": [
              "<function matplotlib.pyplot.show>"
            ]
          },
          "metadata": {
            "tags": []
          },
          "execution_count": 21
        },
        {
          "output_type": "display_data",
          "data": {
            "image/png": "[encoded data removed]",
            "text/plain": [
              "<Figure size 432x288 with 1 Axes>"
            ]
          },
          "metadata": {
            "tags": [],
            "needs_background": "light"
          }
        }
      ]
    },
    {
      "cell_type": "code",
      "metadata": {
        "colab": {
          "base_uri": "https://localhost:8080/"
        },
        "id": "g4V6yH7QZstS",
        "outputId": "90b187ea-13fd-407b-cf69-dc69e828108d"
      },
      "source": [
        "print(lr.score(train_poly, train_target))\r\n",
        "print(lr.score(test_poly, test_target))"
      ],
      "execution_count": 22,
      "outputs": [
        {
          "output_type": "stream",
          "text": [
            "0.9706807451768623\n",
            "0.9775935108325122\n"
          ],
          "name": "stdout"
        }
      ]
    },
    {
      "cell_type": "markdown",
      "metadata": {
        "id": "eHSWnWEFaDv6"
      },
      "source": [
        "다항 회귀 결과 50cm 농어 데이터의 결과값도 훨씬 좋아졌고, 테스트 데이터의 점수도 좋아졌다.\r\n",
        "\r\n",
        "(그러나 여전히 과소적합 상태이다.)"
      ]
    }
  ]
}