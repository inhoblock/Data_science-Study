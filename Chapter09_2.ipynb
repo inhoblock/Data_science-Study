{
  "nbformat": 4,
  "nbformat_minor": 0,
  "metadata": {
    "colab": {
      "name": "Chapter09_2.ipynb",
      "provenance": [],
      "collapsed_sections": [],
      "authorship_tag": "ABX9TyN9sKuFXlLc5hSIH4ff2Gaz",
      "include_colab_link": true
    },
    "kernelspec": {
      "name": "python3",
      "display_name": "Python 3"
    },
    "language_info": {
      "name": "python"
    }
  },
  "cells": [
    {
      "cell_type": "markdown",
      "metadata": {
        "id": "view-in-github",
        "colab_type": "text"
      },
      "source": [
        "<a href=\"https://colab.research.google.com/github/inhoblock/Data_science_Study-hongongmachine/blob/main/Chapter09_2.ipynb\" target=\"_parent\"><img src=\"https://colab.research.google.com/assets/colab-badge.svg\" alt=\"Open In Colab\"/></a>"
      ]
    },
    {
      "cell_type": "markdown",
      "metadata": {
        "id": "IAf1PHR9hIpc"
      },
      "source": [
        "# Chapter9_2\n",
        "\n",
        "순환 신경망으로 IMDB 리뷰 분석하기"
      ]
    },
    {
      "cell_type": "markdown",
      "metadata": {
        "id": "uM0WM600hPfR"
      },
      "source": [
        "# IMDB 리뷰 데이터셋"
      ]
    },
    {
      "cell_type": "code",
      "metadata": {
        "colab": {
          "base_uri": "https://localhost:8080/"
        },
        "id": "gP-10gY3hB_c",
        "outputId": "0fced8e1-9e91-4ef1-ba91-ebd35e954f04"
      },
      "source": [
        "from tensorflow.keras.datasets import imdb\n",
        "\n",
        "(train_input, train_target), (test_input, test_target) = imdb.load_data(num_words=500)"
      ],
      "execution_count": 1,
      "outputs": [
        {
          "output_type": "stream",
          "text": [
            "Downloading data from https://storage.googleapis.com/tensorflow/tf-keras-datasets/imdb.npz\n",
            "17465344/17464789 [==============================] - 0s 0us/step\n"
          ],
          "name": "stdout"
        },
        {
          "output_type": "stream",
          "text": [
            "<string>:6: VisibleDeprecationWarning: Creating an ndarray from ragged nested sequences (which is a list-or-tuple of lists-or-tuples-or ndarrays with different lengths or shapes) is deprecated. If you meant to do this, you must specify 'dtype=object' when creating the ndarray\n",
            "/usr/local/lib/python3.7/dist-packages/tensorflow/python/keras/datasets/imdb.py:159: VisibleDeprecationWarning: Creating an ndarray from ragged nested sequences (which is a list-or-tuple of lists-or-tuples-or ndarrays with different lengths or shapes) is deprecated. If you meant to do this, you must specify 'dtype=object' when creating the ndarray\n",
            "  x_train, y_train = np.array(xs[:idx]), np.array(labels[:idx])\n",
            "/usr/local/lib/python3.7/dist-packages/tensorflow/python/keras/datasets/imdb.py:160: VisibleDeprecationWarning: Creating an ndarray from ragged nested sequences (which is a list-or-tuple of lists-or-tuples-or ndarrays with different lengths or shapes) is deprecated. If you meant to do this, you must specify 'dtype=object' when creating the ndarray\n",
            "  x_test, y_test = np.array(xs[idx:]), np.array(labels[idx:])\n"
          ],
          "name": "stderr"
        }
      ]
    },
    {
      "cell_type": "code",
      "metadata": {
        "colab": {
          "base_uri": "https://localhost:8080/"
        },
        "id": "eQJdoplomPy5",
        "outputId": "e50ad3b1-81ab-4c7b-a504-5dcc1bc561c4"
      },
      "source": [
        "print(train_input.shape, test_input.shape)"
      ],
      "execution_count": 2,
      "outputs": [
        {
          "output_type": "stream",
          "text": [
            "(25000,) (25000,)\n"
          ],
          "name": "stdout"
        }
      ]
    },
    {
      "cell_type": "code",
      "metadata": {
        "colab": {
          "base_uri": "https://localhost:8080/"
        },
        "id": "iWjRGRyLmVEy",
        "outputId": "cd3115b6-533b-4da4-8799-1d5e8ca09a37"
      },
      "source": [
        "print(len(train_input[0]))"
      ],
      "execution_count": 3,
      "outputs": [
        {
          "output_type": "stream",
          "text": [
            "218\n"
          ],
          "name": "stdout"
        }
      ]
    },
    {
      "cell_type": "code",
      "metadata": {
        "colab": {
          "base_uri": "https://localhost:8080/"
        },
        "id": "A9OqYDZhmYGS",
        "outputId": "f3755170-c94e-4346-ef52-e774fd0f5aef"
      },
      "source": [
        "print(len(train_input[1]))"
      ],
      "execution_count": 4,
      "outputs": [
        {
          "output_type": "stream",
          "text": [
            "189\n"
          ],
          "name": "stdout"
        }
      ]
    },
    {
      "cell_type": "code",
      "metadata": {
        "colab": {
          "base_uri": "https://localhost:8080/"
        },
        "id": "u3m-o3oemdwx",
        "outputId": "179c74c1-06b4-4dce-ec11-a5ec315d69fa"
      },
      "source": [
        "print(train_input[0])"
      ],
      "execution_count": 5,
      "outputs": [
        {
          "output_type": "stream",
          "text": [
            "[1, 14, 22, 16, 43, 2, 2, 2, 2, 65, 458, 2, 66, 2, 4, 173, 36, 256, 5, 25, 100, 43, 2, 112, 50, 2, 2, 9, 35, 480, 284, 5, 150, 4, 172, 112, 167, 2, 336, 385, 39, 4, 172, 2, 2, 17, 2, 38, 13, 447, 4, 192, 50, 16, 6, 147, 2, 19, 14, 22, 4, 2, 2, 469, 4, 22, 71, 87, 12, 16, 43, 2, 38, 76, 15, 13, 2, 4, 22, 17, 2, 17, 12, 16, 2, 18, 2, 5, 62, 386, 12, 8, 316, 8, 106, 5, 4, 2, 2, 16, 480, 66, 2, 33, 4, 130, 12, 16, 38, 2, 5, 25, 124, 51, 36, 135, 48, 25, 2, 33, 6, 22, 12, 215, 28, 77, 52, 5, 14, 407, 16, 82, 2, 8, 4, 107, 117, 2, 15, 256, 4, 2, 7, 2, 5, 2, 36, 71, 43, 2, 476, 26, 400, 317, 46, 7, 4, 2, 2, 13, 104, 88, 4, 381, 15, 297, 98, 32, 2, 56, 26, 141, 6, 194, 2, 18, 4, 226, 22, 21, 134, 476, 26, 480, 5, 144, 30, 2, 18, 51, 36, 28, 224, 92, 25, 104, 4, 226, 65, 16, 38, 2, 88, 12, 16, 283, 5, 16, 2, 113, 103, 32, 15, 16, 2, 19, 178, 32]\n"
          ],
          "name": "stdout"
        }
      ]
    },
    {
      "cell_type": "code",
      "metadata": {
        "colab": {
          "base_uri": "https://localhost:8080/"
        },
        "id": "LHvhER7hmgK5",
        "outputId": "e6a9c850-ea34-400f-e6a7-3fe35163e4c7"
      },
      "source": [
        "print(train_target[:20])"
      ],
      "execution_count": 6,
      "outputs": [
        {
          "output_type": "stream",
          "text": [
            "[1 0 0 1 0 0 1 0 1 0 1 0 0 0 0 0 1 1 0 1]\n"
          ],
          "name": "stdout"
        }
      ]
    },
    {
      "cell_type": "code",
      "metadata": {
        "id": "9HsEuVgBmkfx"
      },
      "source": [
        "from sklearn.model_selection import train_test_split\n",
        "\n",
        "train_input, val_input, train_target, val_target = train_test_split(train_input, train_target, test_size=0.2, random_state=42)"
      ],
      "execution_count": 7,
      "outputs": []
    },
    {
      "cell_type": "code",
      "metadata": {
        "id": "aypuFZOZm2qJ"
      },
      "source": [
        "import numpy as np\n",
        "\n",
        "lengths = np.array([len(x) for x in train_input])"
      ],
      "execution_count": 9,
      "outputs": []
    },
    {
      "cell_type": "code",
      "metadata": {
        "colab": {
          "base_uri": "https://localhost:8080/",
          "height": 279
        },
        "id": "FIyEk9uinBl6",
        "outputId": "433cf923-06b0-42c5-d2ce-b7f8ce8faae0"
      },
      "source": [
        "import matplotlib.pyplot as plt\n",
        "\n",
        "plt.hist(lengths)\n",
        "plt.xlabel('length')\n",
        "plt.ylabel('frequency')\n",
        "plt.show()"
      ],
      "execution_count": 10,
      "outputs": [
        {
          "output_type": "display_data",
          "data": {
            "image/png": "[encoded data removed]",
            "text/plain": [
              "<Figure size 432x288 with 1 Axes>"
            ]
          },
          "metadata": {
            "tags": [],
            "needs_background": "light"
          }
        }
      ]
    },
    {
      "cell_type": "code",
      "metadata": {
        "id": "NICWBxU-nQPB"
      },
      "source": [
        "from tensorflow.keras.preprocessing.sequence import pad_sequences\n",
        "\n",
        "train_seq = pad_sequences(train_input, maxlen=100)"
      ],
      "execution_count": 11,
      "outputs": []
    },
    {
      "cell_type": "code",
      "metadata": {
        "colab": {
          "base_uri": "https://localhost:8080/"
        },
        "id": "Rvf_8UFznn_i",
        "outputId": "2d6e70b4-c41d-45a3-c60d-95a441499f48"
      },
      "source": [
        "print(train_seq.shape)"
      ],
      "execution_count": 12,
      "outputs": [
        {
          "output_type": "stream",
          "text": [
            "(20000, 100)\n"
          ],
          "name": "stdout"
        }
      ]
    },
    {
      "cell_type": "code",
      "metadata": {
        "colab": {
          "base_uri": "https://localhost:8080/"
        },
        "id": "uMFwvf0mnqkq",
        "outputId": "463ad1d3-c52e-4ecc-a5f9-7ad98089c34d"
      },
      "source": [
        "print(train_seq[0])"
      ],
      "execution_count": 13,
      "outputs": [
        {
          "output_type": "stream",
          "text": [
            "[ 10   4  20   9   2 364 352   5  45   6   2   2  33 269   8   2 142   2\n",
            "   5   2  17  73  17 204   5   2  19  55   2   2  92  66 104  14  20  93\n",
            "  76   2 151  33   4  58  12 188   2 151  12 215  69 224 142  73 237   6\n",
            "   2   7   2   2 188   2 103  14  31  10  10 451   7   2   5   2  80  91\n",
            "   2  30   2  34  14  20 151  50  26 131  49   2  84  46  50  37  80  79\n",
            "   6   2  46   7  14  20  10  10 470 158]\n"
          ],
          "name": "stdout"
        }
      ]
    },
    {
      "cell_type": "code",
      "metadata": {
        "colab": {
          "base_uri": "https://localhost:8080/"
        },
        "id": "SQK1tOjOn4M6",
        "outputId": "41095fb3-0ecf-41de-b9bc-bda177e50569"
      },
      "source": [
        "print(train_input[0][-10:])"
      ],
      "execution_count": 14,
      "outputs": [
        {
          "output_type": "stream",
          "text": [
            "[6, 2, 46, 7, 14, 20, 10, 10, 470, 158]\n"
          ],
          "name": "stdout"
        }
      ]
    },
    {
      "cell_type": "code",
      "metadata": {
        "colab": {
          "base_uri": "https://localhost:8080/"
        },
        "id": "0czkmZvjn9ai",
        "outputId": "d1a0774d-9fbb-48e0-f6b7-75f87075a503"
      },
      "source": [
        "print(train_seq[5])"
      ],
      "execution_count": 15,
      "outputs": [
        {
          "output_type": "stream",
          "text": [
            "[  0   0   0   0   1   2 195  19  49   2   2 190   4   2 352   2 183  10\n",
            "  10  13  82  79   4   2  36  71 269   8   2  25  19  49   7   4   2   2\n",
            "   2   2   2  10  10  48  25  40   2  11   2   2  40   2   2   5   4   2\n",
            "   2  95  14 238  56 129   2  10  10  21   2  94 364 352   2   2  11 190\n",
            "  24 484   2   7  94 205 405  10  10  87   2  34  49   2   7   2   2   2\n",
            "   2   2 290   2  46  48  64  18   4   2]\n"
          ],
          "name": "stdout"
        }
      ]
    },
    {
      "cell_type": "code",
      "metadata": {
        "id": "7oNMy2H9n_qC"
      },
      "source": [
        "val_seq = pad_sequences(val_input, maxlen=100)"
      ],
      "execution_count": 16,
      "outputs": []
    },
    {
      "cell_type": "markdown",
      "metadata": {
        "id": "OoFu9YpOoF-7"
      },
      "source": [
        "# 순환 신경망 만들기"
      ]
    },
    {
      "cell_type": "code",
      "metadata": {
        "id": "dzRZCsWAoEzq"
      },
      "source": [
        "from tensorflow import keras\n",
        "\n",
        "model = keras.Sequential()\n",
        "\n",
        "model.add(keras.layers.SimpleRNN(8, input_shape=(100, 500)))\n",
        "model.add(keras.layers.Dense(1, activation='sigmoid'))"
      ],
      "execution_count": 17,
      "outputs": []
    },
    {
      "cell_type": "code",
      "metadata": {
        "id": "Bc34lQEZsUTR"
      },
      "source": [
        "train_oh = keras.utils.to_categorical(train_seq)"
      ],
      "execution_count": 18,
      "outputs": []
    },
    {
      "cell_type": "code",
      "metadata": {
        "colab": {
          "base_uri": "https://localhost:8080/"
        },
        "id": "EfLbPoGvsZ2a",
        "outputId": "8349eef4-36e5-42ae-bf4d-446b0605072b"
      },
      "source": [
        "print(train_oh.shape)"
      ],
      "execution_count": 19,
      "outputs": [
        {
          "output_type": "stream",
          "text": [
            "(20000, 100, 500)\n"
          ],
          "name": "stdout"
        }
      ]
    },
    {
      "cell_type": "code",
      "metadata": {
        "colab": {
          "base_uri": "https://localhost:8080/"
        },
        "id": "hKKj97GssgSy",
        "outputId": "68681315-0f45-4d4c-90e3-b9aefd2a9d97"
      },
      "source": [
        "print(train_oh[0][0][:12])"
      ],
      "execution_count": 20,
      "outputs": [
        {
          "output_type": "stream",
          "text": [
            "[0. 0. 0. 0. 0. 0. 0. 0. 0. 0. 1. 0.]\n"
          ],
          "name": "stdout"
        }
      ]
    },
    {
      "cell_type": "code",
      "metadata": {
        "colab": {
          "base_uri": "https://localhost:8080/"
        },
        "id": "_weMJLUasjYa",
        "outputId": "9514141b-50bb-4e68-ab40-c7a4f4098372"
      },
      "source": [
        "print(np.sum(train_oh[0][0]))"
      ],
      "execution_count": 21,
      "outputs": [
        {
          "output_type": "stream",
          "text": [
            "1.0\n"
          ],
          "name": "stdout"
        }
      ]
    },
    {
      "cell_type": "code",
      "metadata": {
        "id": "ACSblwiNsmnr"
      },
      "source": [
        "val_oh = keras.utils.to_categorical(val_seq)"
      ],
      "execution_count": 22,
      "outputs": []
    },
    {
      "cell_type": "code",
      "metadata": {
        "colab": {
          "base_uri": "https://localhost:8080/"
        },
        "id": "-DlwydO1sqor",
        "outputId": "1e951335-b118-42d6-a554-8454c2be4e31"
      },
      "source": [
        "model.summary()"
      ],
      "execution_count": 23,
      "outputs": [
        {
          "output_type": "stream",
          "text": [
            "Model: \"sequential\"\n",
            "_________________________________________________________________\n",
            "Layer (type)                 Output Shape              Param #   \n",
            "=================================================================\n",
            "simple_rnn (SimpleRNN)       (None, 8)                 4072      \n",
            "_________________________________________________________________\n",
            "dense (Dense)                (None, 1)                 9         \n",
            "=================================================================\n",
            "Total params: 4,081\n",
            "Trainable params: 4,081\n",
            "Non-trainable params: 0\n",
            "_________________________________________________________________\n"
          ],
          "name": "stdout"
        }
      ]
    },
    {
      "cell_type": "markdown",
      "metadata": {
        "id": "a7U57NOQswpd"
      },
      "source": [
        "# 순환 신경망 훈련하기"
      ]
    },
    {
      "cell_type": "code",
      "metadata": {
        "colab": {
          "base_uri": "https://localhost:8080/"
        },
        "id": "oodrUWkbstDi",
        "outputId": "4cd35169-9d57-42bd-f9a9-e324a12a3509"
      },
      "source": [
        "rmsprop = keras.optimizers.RMSprop(learning_rate=1e-4)\n",
        "\n",
        "model.compile(optimizer=rmsprop, loss='binary_crossentropy', metrics=['accuracy'])\n",
        "\n",
        "checkpoint_cb = keras.callbacks.ModelCheckpoint('best-simplernn-model.h5', save_best_only=True)\n",
        "\n",
        "early_stopping_cb = keras.callbacks.EarlyStopping(patience=3, restore_best_weights=True)\n",
        "\n",
        "history = model.fit(train_oh, train_target, epochs=100, batch_size=64,\n",
        "                    validation_data=(val_oh, val_target), callbacks=[checkpoint_cb, early_stopping_cb])"
      ],
      "execution_count": 27,
      "outputs": [
        {
          "output_type": "stream",
          "text": [
            "Epoch 1/100\n",
            "313/313 [==============================] - 14s 40ms/step - loss: 0.7000 - accuracy: 0.5055 - val_loss: 0.6944 - val_accuracy: 0.5096\n",
            "Epoch 2/100\n",
            "313/313 [==============================] - 12s 37ms/step - loss: 0.6933 - accuracy: 0.5096 - val_loss: 0.6928 - val_accuracy: 0.5124\n",
            "Epoch 3/100\n",
            "313/313 [==============================] - 12s 37ms/step - loss: 0.6918 - accuracy: 0.5254 - val_loss: 0.6919 - val_accuracy: 0.5158\n",
            "Epoch 4/100\n",
            "313/313 [==============================] - 12s 38ms/step - loss: 0.6897 - accuracy: 0.5335 - val_loss: 0.6909 - val_accuracy: 0.5178\n",
            "Epoch 5/100\n",
            "313/313 [==============================] - 12s 38ms/step - loss: 0.6876 - accuracy: 0.5423 - val_loss: 0.6900 - val_accuracy: 0.5218\n",
            "Epoch 6/100\n",
            "313/313 [==============================] - 12s 38ms/step - loss: 0.6867 - accuracy: 0.5438 - val_loss: 0.6897 - val_accuracy: 0.5252\n",
            "Epoch 7/100\n",
            "313/313 [==============================] - 12s 37ms/step - loss: 0.6853 - accuracy: 0.5485 - val_loss: 0.6890 - val_accuracy: 0.5274\n",
            "Epoch 8/100\n",
            "313/313 [==============================] - 12s 38ms/step - loss: 0.6837 - accuracy: 0.5535 - val_loss: 0.6887 - val_accuracy: 0.5286\n",
            "Epoch 9/100\n",
            "313/313 [==============================] - 12s 38ms/step - loss: 0.6811 - accuracy: 0.5658 - val_loss: 0.6879 - val_accuracy: 0.5336\n",
            "Epoch 10/100\n",
            "313/313 [==============================] - 12s 38ms/step - loss: 0.6807 - accuracy: 0.5648 - val_loss: 0.6874 - val_accuracy: 0.5302\n",
            "Epoch 11/100\n",
            "313/313 [==============================] - 12s 38ms/step - loss: 0.6782 - accuracy: 0.5699 - val_loss: 0.6869 - val_accuracy: 0.5322\n",
            "Epoch 12/100\n",
            "313/313 [==============================] - 12s 38ms/step - loss: 0.6778 - accuracy: 0.5708 - val_loss: 0.6863 - val_accuracy: 0.5356\n",
            "Epoch 13/100\n",
            "313/313 [==============================] - 12s 37ms/step - loss: 0.6774 - accuracy: 0.5752 - val_loss: 0.6859 - val_accuracy: 0.5392\n",
            "Epoch 14/100\n",
            "313/313 [==============================] - 12s 38ms/step - loss: 0.6731 - accuracy: 0.5850 - val_loss: 0.6846 - val_accuracy: 0.5446\n",
            "Epoch 15/100\n",
            "313/313 [==============================] - 12s 37ms/step - loss: 0.6728 - accuracy: 0.5862 - val_loss: 0.6762 - val_accuracy: 0.5700\n",
            "Epoch 16/100\n",
            "313/313 [==============================] - 12s 37ms/step - loss: 0.6588 - accuracy: 0.6252 - val_loss: 0.6643 - val_accuracy: 0.6104\n",
            "Epoch 17/100\n",
            "313/313 [==============================] - 12s 37ms/step - loss: 0.6469 - accuracy: 0.6497 - val_loss: 0.6498 - val_accuracy: 0.6396\n",
            "Epoch 18/100\n",
            "313/313 [==============================] - 12s 37ms/step - loss: 0.6298 - accuracy: 0.6786 - val_loss: 0.6334 - val_accuracy: 0.6664\n",
            "Epoch 19/100\n",
            "313/313 [==============================] - 12s 37ms/step - loss: 0.6134 - accuracy: 0.6963 - val_loss: 0.6155 - val_accuracy: 0.6906\n",
            "Epoch 20/100\n",
            "313/313 [==============================] - 12s 38ms/step - loss: 0.5943 - accuracy: 0.7202 - val_loss: 0.5993 - val_accuracy: 0.7108\n",
            "Epoch 21/100\n",
            "313/313 [==============================] - 12s 38ms/step - loss: 0.5797 - accuracy: 0.7338 - val_loss: 0.5866 - val_accuracy: 0.7222\n",
            "Epoch 22/100\n",
            "313/313 [==============================] - 12s 37ms/step - loss: 0.5610 - accuracy: 0.7534 - val_loss: 0.5692 - val_accuracy: 0.7372\n",
            "Epoch 23/100\n",
            "313/313 [==============================] - 12s 38ms/step - loss: 0.5449 - accuracy: 0.7587 - val_loss: 0.5548 - val_accuracy: 0.7482\n",
            "Epoch 24/100\n",
            "313/313 [==============================] - 12s 38ms/step - loss: 0.5344 - accuracy: 0.7672 - val_loss: 0.5412 - val_accuracy: 0.7584\n",
            "Epoch 25/100\n",
            "313/313 [==============================] - 12s 37ms/step - loss: 0.5178 - accuracy: 0.7772 - val_loss: 0.5323 - val_accuracy: 0.7580\n",
            "Epoch 26/100\n",
            "313/313 [==============================] - 12s 38ms/step - loss: 0.5082 - accuracy: 0.7777 - val_loss: 0.5236 - val_accuracy: 0.7648\n",
            "Epoch 27/100\n",
            "313/313 [==============================] - 12s 38ms/step - loss: 0.5011 - accuracy: 0.7808 - val_loss: 0.5158 - val_accuracy: 0.7666\n",
            "Epoch 28/100\n",
            "313/313 [==============================] - 12s 38ms/step - loss: 0.4915 - accuracy: 0.7879 - val_loss: 0.5119 - val_accuracy: 0.7666\n",
            "Epoch 29/100\n",
            "313/313 [==============================] - 12s 38ms/step - loss: 0.4783 - accuracy: 0.7928 - val_loss: 0.5017 - val_accuracy: 0.7742\n",
            "Epoch 30/100\n",
            "313/313 [==============================] - 12s 38ms/step - loss: 0.4667 - accuracy: 0.8035 - val_loss: 0.4969 - val_accuracy: 0.7784\n",
            "Epoch 31/100\n",
            "313/313 [==============================] - 12s 38ms/step - loss: 0.4681 - accuracy: 0.7957 - val_loss: 0.4904 - val_accuracy: 0.7802\n",
            "Epoch 32/100\n",
            "313/313 [==============================] - 12s 38ms/step - loss: 0.4565 - accuracy: 0.8056 - val_loss: 0.4851 - val_accuracy: 0.7804\n",
            "Epoch 33/100\n",
            "313/313 [==============================] - 12s 38ms/step - loss: 0.4523 - accuracy: 0.8014 - val_loss: 0.4822 - val_accuracy: 0.7816\n",
            "Epoch 34/100\n",
            "313/313 [==============================] - 12s 38ms/step - loss: 0.4423 - accuracy: 0.8094 - val_loss: 0.4780 - val_accuracy: 0.7844\n",
            "Epoch 35/100\n",
            "313/313 [==============================] - 12s 38ms/step - loss: 0.4404 - accuracy: 0.8109 - val_loss: 0.4751 - val_accuracy: 0.7862\n",
            "Epoch 36/100\n",
            "313/313 [==============================] - 12s 38ms/step - loss: 0.4403 - accuracy: 0.8083 - val_loss: 0.4755 - val_accuracy: 0.7818\n",
            "Epoch 37/100\n",
            "313/313 [==============================] - 12s 39ms/step - loss: 0.4336 - accuracy: 0.8118 - val_loss: 0.4759 - val_accuracy: 0.7842\n",
            "Epoch 38/100\n",
            "313/313 [==============================] - 12s 39ms/step - loss: 0.4291 - accuracy: 0.8105 - val_loss: 0.4699 - val_accuracy: 0.7846\n",
            "Epoch 39/100\n",
            "313/313 [==============================] - 12s 38ms/step - loss: 0.4244 - accuracy: 0.8141 - val_loss: 0.4716 - val_accuracy: 0.7856\n",
            "Epoch 40/100\n",
            "313/313 [==============================] - 12s 38ms/step - loss: 0.4280 - accuracy: 0.8145 - val_loss: 0.4684 - val_accuracy: 0.7880\n",
            "Epoch 41/100\n",
            "313/313 [==============================] - 12s 38ms/step - loss: 0.4216 - accuracy: 0.8138 - val_loss: 0.4653 - val_accuracy: 0.7884\n",
            "Epoch 42/100\n",
            "313/313 [==============================] - 12s 39ms/step - loss: 0.4137 - accuracy: 0.8185 - val_loss: 0.4696 - val_accuracy: 0.7856\n",
            "Epoch 43/100\n",
            "313/313 [==============================] - 12s 39ms/step - loss: 0.4151 - accuracy: 0.8176 - val_loss: 0.4637 - val_accuracy: 0.7874\n",
            "Epoch 44/100\n",
            "313/313 [==============================] - 12s 38ms/step - loss: 0.4149 - accuracy: 0.8218 - val_loss: 0.4638 - val_accuracy: 0.7886\n",
            "Epoch 45/100\n",
            "313/313 [==============================] - 12s 38ms/step - loss: 0.4179 - accuracy: 0.8199 - val_loss: 0.4649 - val_accuracy: 0.7894\n",
            "Epoch 46/100\n",
            "313/313 [==============================] - 12s 38ms/step - loss: 0.4077 - accuracy: 0.8221 - val_loss: 0.4631 - val_accuracy: 0.7882\n",
            "Epoch 47/100\n",
            "313/313 [==============================] - 12s 38ms/step - loss: 0.4055 - accuracy: 0.8243 - val_loss: 0.4656 - val_accuracy: 0.7874\n",
            "Epoch 48/100\n",
            "313/313 [==============================] - 12s 38ms/step - loss: 0.4053 - accuracy: 0.8242 - val_loss: 0.4638 - val_accuracy: 0.7894\n",
            "Epoch 49/100\n",
            "313/313 [==============================] - 12s 38ms/step - loss: 0.4131 - accuracy: 0.8192 - val_loss: 0.4626 - val_accuracy: 0.7886\n",
            "Epoch 50/100\n",
            "313/313 [==============================] - 12s 38ms/step - loss: 0.4095 - accuracy: 0.8215 - val_loss: 0.4632 - val_accuracy: 0.7896\n",
            "Epoch 51/100\n",
            "313/313 [==============================] - 12s 38ms/step - loss: 0.4027 - accuracy: 0.8211 - val_loss: 0.4655 - val_accuracy: 0.7886\n",
            "Epoch 52/100\n",
            "313/313 [==============================] - 12s 38ms/step - loss: 0.4004 - accuracy: 0.8265 - val_loss: 0.4610 - val_accuracy: 0.7892\n",
            "Epoch 53/100\n",
            "313/313 [==============================] - 12s 39ms/step - loss: 0.4012 - accuracy: 0.8230 - val_loss: 0.4619 - val_accuracy: 0.7898\n",
            "Epoch 54/100\n",
            "313/313 [==============================] - 12s 39ms/step - loss: 0.3976 - accuracy: 0.8266 - val_loss: 0.4612 - val_accuracy: 0.7898\n",
            "Epoch 55/100\n",
            "313/313 [==============================] - 12s 38ms/step - loss: 0.3953 - accuracy: 0.8273 - val_loss: 0.4621 - val_accuracy: 0.7916\n"
          ],
          "name": "stdout"
        }
      ]
    },
    {
      "cell_type": "code",
      "metadata": {
        "colab": {
          "base_uri": "https://localhost:8080/",
          "height": 279
        },
        "id": "cjc5IsWNtqIU",
        "outputId": "8798234f-1d96-4c5e-8ea5-a2fccacc0218"
      },
      "source": [
        "plt.plot(history.history['loss'])\n",
        "plt.plot(history.history['val_loss'])\n",
        "plt.xlabel('epoch')\n",
        "plt.ylabel('loss')\n",
        "plt.legend(['train', 'val'])\n",
        "plt.show()"
      ],
      "execution_count": 28,
      "outputs": [
        {
          "output_type": "display_data",
          "data": {
            "image/png": "[encoded data removed]",
            "text/plain": [
              "<Figure size 432x288 with 1 Axes>"
            ]
          },
          "metadata": {
            "tags": [],
            "needs_background": "light"
          }
        }
      ]
    },
    {
      "cell_type": "markdown",
      "metadata": {
        "id": "o7NWiM7XxrkX"
      },
      "source": [
        "# 단어 임베딩을 사용하기"
      ]
    },
    {
      "cell_type": "code",
      "metadata": {
        "colab": {
          "base_uri": "https://localhost:8080/"
        },
        "id": "DGoyI3szxja9",
        "outputId": "c45a033c-70f8-4059-ccc7-421884835105"
      },
      "source": [
        "model2 = keras.Sequential()\n",
        "\n",
        "model2.add(keras.layers.Embedding(500, 16, input_length=100))\n",
        "model2.add(keras.layers.SimpleRNN(8))\n",
        "model2.add(keras.layers.Dense(1, activation='sigmoid'))\n",
        "\n",
        "model2.summary()"
      ],
      "execution_count": 29,
      "outputs": [
        {
          "output_type": "stream",
          "text": [
            "Model: \"sequential_1\"\n",
            "_________________________________________________________________\n",
            "Layer (type)                 Output Shape              Param #   \n",
            "=================================================================\n",
            "embedding (Embedding)        (None, 100, 16)           8000      \n",
            "_________________________________________________________________\n",
            "simple_rnn_1 (SimpleRNN)     (None, 8)                 200       \n",
            "_________________________________________________________________\n",
            "dense_1 (Dense)              (None, 1)                 9         \n",
            "=================================================================\n",
            "Total params: 8,209\n",
            "Trainable params: 8,209\n",
            "Non-trainable params: 0\n",
            "_________________________________________________________________\n"
          ],
          "name": "stdout"
        }
      ]
    },
    {
      "cell_type": "code",
      "metadata": {
        "colab": {
          "base_uri": "https://localhost:8080/"
        },
        "id": "r_GwmXapyGQk",
        "outputId": "07f8892b-dec6-4a89-fd56-b68bd9492d70"
      },
      "source": [
        "rmsprop = keras.optimizers.RMSprop(learning_rate=1e-4)\n",
        "model2.compile(optimizer=rmsprop, loss='binary_crossentropy', \n",
        "               metrics=['accuracy'])\n",
        "\n",
        "checkpoint_cb = keras.callbacks.ModelCheckpoint('best-embedding-model.h5', \n",
        "                                                save_best_only=True)\n",
        "early_stopping_cb = keras.callbacks.EarlyStopping(patience=3,\n",
        "                                                  restore_best_weights=True)\n",
        "\n",
        "history = model2.fit(train_seq, train_target, epochs=100, batch_size=64,\n",
        "                     validation_data=(val_seq, val_target),\n",
        "                     callbacks=[checkpoint_cb, early_stopping_cb])"
      ],
      "execution_count": 30,
      "outputs": [
        {
          "output_type": "stream",
          "text": [
            "Epoch 1/100\n",
            "313/313 [==============================] - 7s 20ms/step - loss: 0.6931 - accuracy: 0.5147 - val_loss: 0.6928 - val_accuracy: 0.5158\n",
            "Epoch 2/100\n",
            "313/313 [==============================] - 6s 20ms/step - loss: 0.6882 - accuracy: 0.5349 - val_loss: 0.6899 - val_accuracy: 0.5284\n",
            "Epoch 3/100\n",
            "313/313 [==============================] - 6s 20ms/step - loss: 0.6826 - accuracy: 0.5688 - val_loss: 0.6872 - val_accuracy: 0.5430\n",
            "Epoch 4/100\n",
            "313/313 [==============================] - 6s 20ms/step - loss: 0.6776 - accuracy: 0.5858 - val_loss: 0.6849 - val_accuracy: 0.5478\n",
            "Epoch 5/100\n",
            "313/313 [==============================] - 6s 20ms/step - loss: 0.6740 - accuracy: 0.5931 - val_loss: 0.6827 - val_accuracy: 0.5470\n",
            "Epoch 6/100\n",
            "313/313 [==============================] - 6s 20ms/step - loss: 0.6676 - accuracy: 0.6057 - val_loss: 0.6807 - val_accuracy: 0.5542\n",
            "Epoch 7/100\n",
            "313/313 [==============================] - 6s 20ms/step - loss: 0.6629 - accuracy: 0.6135 - val_loss: 0.6787 - val_accuracy: 0.5554\n",
            "Epoch 8/100\n",
            "313/313 [==============================] - 6s 20ms/step - loss: 0.6579 - accuracy: 0.6210 - val_loss: 0.6774 - val_accuracy: 0.5584\n",
            "Epoch 9/100\n",
            "313/313 [==============================] - 6s 20ms/step - loss: 0.6520 - accuracy: 0.6275 - val_loss: 0.6753 - val_accuracy: 0.5618\n",
            "Epoch 10/100\n",
            "313/313 [==============================] - 6s 20ms/step - loss: 0.6458 - accuracy: 0.6361 - val_loss: 0.6733 - val_accuracy: 0.5618\n",
            "Epoch 11/100\n",
            "313/313 [==============================] - 6s 20ms/step - loss: 0.6414 - accuracy: 0.6430 - val_loss: 0.6713 - val_accuracy: 0.5646\n",
            "Epoch 12/100\n",
            "313/313 [==============================] - 6s 20ms/step - loss: 0.6398 - accuracy: 0.6403 - val_loss: 0.6692 - val_accuracy: 0.5724\n",
            "Epoch 13/100\n",
            "313/313 [==============================] - 6s 20ms/step - loss: 0.6343 - accuracy: 0.6462 - val_loss: 0.6661 - val_accuracy: 0.5802\n",
            "Epoch 14/100\n",
            "313/313 [==============================] - 6s 20ms/step - loss: 0.6288 - accuracy: 0.6562 - val_loss: 0.6620 - val_accuracy: 0.5896\n",
            "Epoch 15/100\n",
            "313/313 [==============================] - 6s 20ms/step - loss: 0.6230 - accuracy: 0.6616 - val_loss: 0.6581 - val_accuracy: 0.5938\n",
            "Epoch 16/100\n",
            "313/313 [==============================] - 6s 20ms/step - loss: 0.6191 - accuracy: 0.6607 - val_loss: 0.6523 - val_accuracy: 0.6026\n",
            "Epoch 17/100\n",
            "313/313 [==============================] - 6s 20ms/step - loss: 0.6097 - accuracy: 0.6759 - val_loss: 0.6451 - val_accuracy: 0.6142\n",
            "Epoch 18/100\n",
            "313/313 [==============================] - 6s 20ms/step - loss: 0.6016 - accuracy: 0.6894 - val_loss: 0.6369 - val_accuracy: 0.6248\n",
            "Epoch 19/100\n",
            "313/313 [==============================] - 6s 20ms/step - loss: 0.5935 - accuracy: 0.6931 - val_loss: 0.6261 - val_accuracy: 0.6350\n",
            "Epoch 20/100\n",
            "313/313 [==============================] - 6s 20ms/step - loss: 0.5850 - accuracy: 0.6954 - val_loss: 0.6094 - val_accuracy: 0.6592\n",
            "Epoch 21/100\n",
            "313/313 [==============================] - 6s 20ms/step - loss: 0.5614 - accuracy: 0.7173 - val_loss: 0.5791 - val_accuracy: 0.6906\n",
            "Epoch 22/100\n",
            "313/313 [==============================] - 6s 20ms/step - loss: 0.5324 - accuracy: 0.7376 - val_loss: 0.5375 - val_accuracy: 0.7302\n",
            "Epoch 23/100\n",
            "313/313 [==============================] - 6s 20ms/step - loss: 0.4907 - accuracy: 0.7692 - val_loss: 0.5158 - val_accuracy: 0.7450\n",
            "Epoch 24/100\n",
            "313/313 [==============================] - 6s 20ms/step - loss: 0.4720 - accuracy: 0.7809 - val_loss: 0.5087 - val_accuracy: 0.7508\n",
            "Epoch 25/100\n",
            "313/313 [==============================] - 6s 20ms/step - loss: 0.4639 - accuracy: 0.7866 - val_loss: 0.5042 - val_accuracy: 0.7542\n",
            "Epoch 26/100\n",
            "313/313 [==============================] - 6s 20ms/step - loss: 0.4535 - accuracy: 0.7919 - val_loss: 0.4999 - val_accuracy: 0.7558\n",
            "Epoch 27/100\n",
            "313/313 [==============================] - 6s 20ms/step - loss: 0.4462 - accuracy: 0.7988 - val_loss: 0.4976 - val_accuracy: 0.7568\n",
            "Epoch 28/100\n",
            "313/313 [==============================] - 6s 20ms/step - loss: 0.4471 - accuracy: 0.7971 - val_loss: 0.4939 - val_accuracy: 0.7590\n",
            "Epoch 29/100\n",
            "313/313 [==============================] - 6s 20ms/step - loss: 0.4393 - accuracy: 0.8029 - val_loss: 0.4931 - val_accuracy: 0.7584\n",
            "Epoch 30/100\n",
            "313/313 [==============================] - 6s 20ms/step - loss: 0.4327 - accuracy: 0.8078 - val_loss: 0.4916 - val_accuracy: 0.7602\n",
            "Epoch 31/100\n",
            "313/313 [==============================] - 6s 20ms/step - loss: 0.4345 - accuracy: 0.8050 - val_loss: 0.4921 - val_accuracy: 0.7604\n",
            "Epoch 32/100\n",
            "313/313 [==============================] - 6s 20ms/step - loss: 0.4279 - accuracy: 0.8115 - val_loss: 0.4908 - val_accuracy: 0.7630\n",
            "Epoch 33/100\n",
            "313/313 [==============================] - 6s 20ms/step - loss: 0.4205 - accuracy: 0.8152 - val_loss: 0.4904 - val_accuracy: 0.7620\n",
            "Epoch 34/100\n",
            "313/313 [==============================] - 6s 20ms/step - loss: 0.4226 - accuracy: 0.8138 - val_loss: 0.4901 - val_accuracy: 0.7646\n",
            "Epoch 35/100\n",
            "313/313 [==============================] - 6s 20ms/step - loss: 0.4157 - accuracy: 0.8182 - val_loss: 0.4914 - val_accuracy: 0.7634\n",
            "Epoch 36/100\n",
            "313/313 [==============================] - 6s 20ms/step - loss: 0.4148 - accuracy: 0.8186 - val_loss: 0.4905 - val_accuracy: 0.7620\n",
            "Epoch 37/100\n",
            "313/313 [==============================] - 6s 20ms/step - loss: 0.4081 - accuracy: 0.8213 - val_loss: 0.4903 - val_accuracy: 0.7642\n"
          ],
          "name": "stdout"
        }
      ]
    },
    {
      "cell_type": "code",
      "metadata": {
        "colab": {
          "base_uri": "https://localhost:8080/",
          "height": 279
        },
        "id": "AVuLwy-FyKsz",
        "outputId": "f8db224e-7d4f-4a9b-de5b-b7fdec454a2b"
      },
      "source": [
        "plt.plot(history.history['loss'])\n",
        "plt.plot(history.history['val_loss'])\n",
        "plt.xlabel('epoch')\n",
        "plt.ylabel('loss')\n",
        "plt.legend(['train', 'val'])\n",
        "plt.show()"
      ],
      "execution_count": 31,
      "outputs": [
        {
          "output_type": "display_data",
          "data": {
            "image/png": "[encoded data removed]",
            "text/plain": [
              "<Figure size 432x288 with 1 Axes>"
            ]
          },
          "metadata": {
            "tags": [],
            "needs_background": "light"
          }
        }
      ]
    }
  ]
}